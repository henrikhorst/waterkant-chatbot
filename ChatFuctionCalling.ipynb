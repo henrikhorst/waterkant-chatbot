{
 "cells": [
  {
   "cell_type": "code",
   "execution_count": 1,
   "id": "4ac25e11-f285-409c-997c-e6e10aec1c02",
   "metadata": {},
   "outputs": [],
   "source": [
    "import helper\n",
    "from helper import find_k_nearest_neighbors\n",
    "from helper import waterkant_festival_description\n",
    "from helper import Document\n",
    "import json"
   ]
  },
  {
   "cell_type": "code",
   "execution_count": 2,
   "id": "8035dfb6-3910-45d1-9ca9-5dd2c8d1c5b0",
   "metadata": {},
   "outputs": [],
   "source": [
    "time_template=\"\"\"Extract time-related information such as days of the week, start times, and end times from a question, and format them as specified, follow these steps:\n",
    "\n",
    "Identify Time Information: Begin by scrutinizing the question to identify mentions of specific days, times, or durations. Key elements to look for include:\n",
    "Days of the week (e.g., Monday, Tuesday, etc.).\n",
    "Time expressions (e.g., \"9 AM\", \"1400 hours\", \"from 9 to 11\").\n",
    "Keywords suggesting time durations (e.g., \"morning\", \"evening\", \"all day\").\n",
    "List Days of the Week: If any days are mentioned:\n",
    "Note each day explicitly mentioned. Include all days in a mentioned range (e.g., \"Monday to Friday\").\n",
    "Ensure days are fully spelled out (e.g., \"Monday\", not \"Mon\") and capitalized.\n",
    "Determine Start and End Times:\n",
    "Look for specific times mentioned for starting or ending, noted in either 12-hour or 24-hour format.\n",
    "Decide if each time refers to a start time or end time based on contextual keywords like \"from\", \"start at\", \"until\", \"end by\".\n",
    "Convert times in 12-hour format (AM/PM) into 24-hour format for consistency (e.g., \"2 PM\" becomes \"14:00\").\n",
    "Calculate Minimum Start Time and Maximum End Time:\n",
    "From all start times identified, choose the earliest as \"min_start_time\".\n",
    "From all end times, select the latest as \"max_end_time\".\n",
    "Times should be in the \"HH:MM\" format (e.g., \"09:00\", \"18:00\").\n",
    "Check for Default Values:\n",
    "If no days are mentioned in the question, default to ['Thursday', 'Friday'].\n",
    "If no start or end times are provided, use '00:00' as the default \"min_start_time\" and '23:00' as the \"max_end_time\".\n",
    "Format the Output:\n",
    "Organize the data into a dictionary format with keys: 'days', 'min_start_time', and 'max_end_time'.\n",
    "Under 'days', include the listed or default days in square brackets.\n",
    "Assign the respective or default values to 'min_start_time' and 'max_end_time'.\n",
    "Example:\n",
    "If the question is \"When are late night discussions held?\", and no specific days or times are mentioned, your output should look like this:\n",
    "\n",
    "{\n",
    "  \"days\": [\"Thursday\", \"Friday\"],\n",
    "  \"min_start_time\": \"00:00\",\n",
    "  \"max_end_time\": \"23:00\"\n",
    "}\n",
    "Example:\n",
    "If the question is \"What are the events on Friday starting at 9 AM and ending before 4 PM?\", your formatted output should look like this:\n",
    "{\n",
    "  \"days\": [\"Friday\"],\n",
    "  \"min_start_time\": \"00:00\",\n",
    "  \"max_end_time\": \"16:00\"\n",
    "}\n",
    "\n",
    "Here is the question:\n",
    "%question%\n",
    "\"\"\""
   ]
  },
  {
   "cell_type": "code",
   "execution_count": 3,
   "id": "bde76041-3008-42ed-b013-418df6bd8451",
   "metadata": {},
   "outputs": [],
   "source": [
    "events_template=\"Here is a list of events which could be helpful to answer the question:\\n\\n%events%Answer the question based on the information above. Answer in the language of the question. Answer with which events are really fitting to the question and which might not be directly but could also be interesting. Here is the question again:\\n%question%\""
   ]
  },
  {
   "cell_type": "code",
   "execution_count": 4,
   "id": "99600c0c-8faf-4f1f-ac49-a45d7fc6f647",
   "metadata": {},
   "outputs": [],
   "source": [
    "def replace_placeholders(template, replacements):\n",
    "    for key, value in replacements.items():\n",
    "        placeholder = \"%\" + key + \"%\"\n",
    "        template = template.replace(placeholder, value)\n",
    "    return template"
   ]
  },
  {
   "cell_type": "code",
   "execution_count": 5,
   "id": "8110e5c0-32ba-4b9b-b099-d13dcc06cead",
   "metadata": {},
   "outputs": [],
   "source": [
    "import numpy as np\n",
    "\n",
    "np_embeddings = np.load('prep/embeddings.npy')"
   ]
  },
  {
   "cell_type": "code",
   "execution_count": 6,
   "id": "54c52f9c-bdd6-472b-8ad0-4ddd84fc800d",
   "metadata": {},
   "outputs": [
    {
     "data": {
      "text/plain": [
       "(112, 1536)"
      ]
     },
     "execution_count": 6,
     "metadata": {},
     "output_type": "execute_result"
    }
   ],
   "source": [
    "np_embeddings.shape"
   ]
  },
  {
   "cell_type": "code",
   "execution_count": 7,
   "id": "3eb0927d-2fba-4ef1-aab6-ae0c17f4481d",
   "metadata": {},
   "outputs": [],
   "source": [
    "import json\n",
    "import uuid\n",
    "with open('prep/documents.json', 'r') as file:\n",
    "            json_documents = json.load(file)\n",
    "\n",
    "loaded_documents = [Document.from_json(json_str) for json_str in json_documents]"
   ]
  },
  {
   "cell_type": "code",
   "execution_count": 8,
   "id": "93cdf7ee-7aca-4fa3-b4e8-755ad9d04127",
   "metadata": {},
   "outputs": [
    {
     "data": {
      "text/plain": [
       "{'speakers': [{'name': 'Fabian Böck',\n",
       "   'role': 'Founder',\n",
       "   'organization': 'Europe Think Factory'},\n",
       "  {'name': 'Erdem Ovacik',\n",
       "   'role': 'Founder and Executive Board Member',\n",
       "   'organization': 'Donkey Republic'},\n",
       "  {'name': 'Elina Åkerlind',\n",
       "   'role': 'CEO and founder',\n",
       "   'organization': 'Nordic Node AB'},\n",
       "  {'name': 'Sakina Turabali',\n",
       "   'role': 'Co-founder/Chief Growth Officer',\n",
       "   'organization': 'CodeEasy'}],\n",
       " 'moderators': [{'name': 'Linda-Maraike Plath',\n",
       "   'role': 'Projektkoordination SEEd Schule (Social Entrepreneurship Education)',\n",
       "   'organization': 'opencampus.sh'}],\n",
       " 'type': 'Startup, Panel',\n",
       " 'date': {'day': 'Friday', 'start_time': '11:00', 'end_time': '11:45'}}"
      ]
     },
     "execution_count": 8,
     "metadata": {},
     "output_type": "execute_result"
    }
   ],
   "source": [
    "loaded_documents[0].metadata"
   ]
  },
  {
   "cell_type": "code",
   "execution_count": 9,
   "id": "2b24f456-ba29-4dea-a6ad-7609f2b6f5ba",
   "metadata": {},
   "outputs": [],
   "source": [
    "from openai import OpenAI\n",
    "client = OpenAI()\n",
    "\n",
    "def get_embedding(text, model=\"text-embedding-3-small\"):\n",
    "   text = text.replace(\"\\n\", \" \")\n",
    "   return client.embeddings.create(input = [text], model=model).data[0].embedding\n",
    "\n"
   ]
  },
  {
   "cell_type": "code",
   "execution_count": 10,
   "id": "8a3393c8-46cb-41a5-b79e-e37c78d76b1c",
   "metadata": {},
   "outputs": [],
   "source": [
    "question=\"Can you recommend any workshops on artificial intelligence or digital technology on Friday\""
   ]
  },
  {
   "cell_type": "code",
   "execution_count": 11,
   "id": "2b431970-7812-4a32-a8e1-4b6ce050e5e0",
   "metadata": {},
   "outputs": [],
   "source": [
    "question_embedding = get_embedding(question)"
   ]
  },
  {
   "cell_type": "code",
   "execution_count": 12,
   "id": "16292383-df8b-4bce-a92e-f6ed15ab7cdc",
   "metadata": {},
   "outputs": [],
   "source": [
    "np_question_embedding = np.array(question_embedding)"
   ]
  },
  {
   "cell_type": "code",
   "execution_count": 13,
   "id": "151b01aa-b2f0-4d9f-9e3f-bf6ee9267939",
   "metadata": {},
   "outputs": [],
   "source": [
    "k=len(np_embeddings)\n",
    "indices, similarities = find_k_nearest_neighbors(np_embeddings, np_question_embedding, k)"
   ]
  },
  {
   "cell_type": "code",
   "execution_count": 28,
   "id": "08f80b53-7c4a-4c48-99ec-da1ab69697bd",
   "metadata": {},
   "outputs": [],
   "source": [
    "from openai import OpenAI\n",
    "client = OpenAI()\n",
    "GPT_MODEL = \"gpt-3.5-turbo\"\n",
    "def chat_completion_request(messages, tools=None, model=GPT_MODEL, stream=False):\n",
    "    try:\n",
    "        response = client.chat.completions.create(\n",
    "            model=model,\n",
    "            messages=messages,\n",
    "            tools=tools,\n",
    "            temperature = 0.0,\n",
    "            stream=stream\n",
    "        )\n",
    "        return response\n",
    "    except Exception as e:\n",
    "        print(\"Unable to generate ChatCompletion response\")\n",
    "        print(f\"Exception: {e}\")\n",
    "        return e\n",
    "\n"
   ]
  },
  {
   "cell_type": "code",
   "execution_count": 29,
   "id": "64776970-0e66-4234-9f39-25e57b4fc427",
   "metadata": {},
   "outputs": [],
   "source": [
    "tools = [{\n",
    "    \"type\": \"function\",\n",
    "    \"function\": {\n",
    "        \"name\": \"filter_events_by_day_and_time_constraints\",\n",
    "        \"description\": \"Filters a list of events based on specific day and time constraints, including earliest and latest permissible times for event start and end.\",\n",
    "        \"parameters\": {\n",
    "            \"type\": \"object\",\n",
    "            \"properties\": {\n",
    "                \"target_day\": {\n",
    "                    \"type\": \"string\",\n",
    "                    \"description\": \"The specific day of the week to filter events for, e.g., 'Monday', 'Tuesday'.\"\n",
    "                },\n",
    "                \"earliest_start_time\": {\n",
    "                    \"type\": \"string\",\n",
    "                    \"description\": \"The earliest permissible start time for events, in 24-hour format, e.g., '08:00' for 8 AM.\"\n",
    "                },\n",
    "                \"latest_end_time\": {\n",
    "                    \"type\": \"string\",\n",
    "                    \"description\": \"The latest permissible ending time for events, if specified, in 24-hour format, e.g., '17:00' for 5 PM.\"\n",
    "                },\n",
    "                \"cutoff_start_time\": {\n",
    "                    \"type\": \"string\",\n",
    "                    \"description\": \"The cutoff start time for considering events, any event starting after this time will be excluded, e.g., '23:00'.\"\n",
    "                }\n",
    "            }\n",
    "        }\n",
    "    }\n",
    "}]\n"
   ]
  },
  {
   "cell_type": "code",
   "execution_count": 30,
   "id": "da4950f5-d693-4f53-8c66-5c20a5ba244c",
   "metadata": {},
   "outputs": [],
   "source": [
    "tools = [{\n",
    "    \"type\": \"function\",\n",
    "    \"function\": {\n",
    "        \"name\": \"filter_events_by_day_and_time_constraints\",\n",
    "        \"description\": \"Filters a list of events based on specific day and time constraints, including earliest and latest permissible times for event start and end.\",\n",
    "        \"parameters\": {\n",
    "            \"type\": \"object\",\n",
    "            \"properties\": {\n",
    "                \"days\": {\n",
    "                    \"type\": \"string\",\n",
    "                    \"description\": \"required format: python list of the specific days of the week to filter events for, e.g., ['Monday', 'Friday'] or ['Tuesday']. If none are given use ['Thursday', 'Friday'] as the default return value.\"\n",
    "                },\n",
    "                \"min_start_time\": {\n",
    "                    \"type\": \"string\",\n",
    "                    \"description\": \"The earliest permissible start time for events, in 24-hour format, e.g., '08:00' for 8 AM. If none is given use '00:00' as the default return value.\"\n",
    "                },\n",
    "                \"max_end_time\": {\n",
    "                    \"type\": \"string\",\n",
    "                    \"description\": \"The latest permissible ending time for events, in 24-hour format, e.g., '17:00' for 5 PM. If noen is given use '23:00' as the default return value.\"\n",
    "                },\n",
    "            }\n",
    "        }\n",
    "    }\n",
    "}]\n"
   ]
  },
  {
   "cell_type": "code",
   "execution_count": 31,
   "id": "8b99f296-7687-42a3-aa27-90f6ff331f86",
   "metadata": {},
   "outputs": [],
   "source": [
    "from datetime import datetime\n",
    "\n",
    "def filter_events(events, filters):\n",
    "    filtered_events = []\n",
    "    # Unpacking the filter criteria\n",
    "    days = filters['days']\n",
    "    min_start_time_str = filters['min_start_time']\n",
    "    max_end_time_str = filters['max_end_time']\n",
    "    \n",
    "    # Safely parse the global min and max times\n",
    "    try:\n",
    "        min_start_time = datetime.strptime(min_start_time_str, \"%H:%M\").time()\n",
    "        max_end_time = datetime.strptime(max_end_time_str, \"%H:%M\").time()\n",
    "    except ValueError:\n",
    "        print(\"Global time filters are not in the correct format (HH:MM). No events will be processed.\")\n",
    "        return filtered_events\n",
    "\n",
    "    for event in events:\n",
    "        event_day = event.metadata['date']['day']\n",
    "        # Safely parse event start and end times\n",
    "        try:\n",
    "            event_start_time = datetime.strptime(event.metadata['date']['start_time'], \"%H:%M\").time()\n",
    "            event_end_time = datetime.strptime(event.metadata['date']['end_time'], \"%H:%M\").time()\n",
    "        except ValueError:\n",
    "            #print(f\"Skipping event due to incorrect time format: {event}\")\n",
    "            continue\n",
    "\n",
    "        # Check if the event meets all the criteria\n",
    "        if event_day in days and event_start_time >= min_start_time and event_end_time <= max_end_time:\n",
    "            filtered_events.append(event)\n",
    "    \n",
    "    return filtered_events"
   ]
  },
  {
   "cell_type": "code",
   "execution_count": 44,
   "id": "d8f6389e-ca4b-49e3-a58f-981732ddf0c3",
   "metadata": {},
   "outputs": [],
   "source": [
    "filter = {'days': ['Thursday'], 'min_start_time': '00:00', 'max_end_time': '23:00'}"
   ]
  },
  {
   "cell_type": "code",
   "execution_count": 45,
   "id": "491bf49b-ee21-4175-b27b-b7d15cad8f6f",
   "metadata": {},
   "outputs": [],
   "source": [
    "filtered_events = filter_events(loaded_documents, filter)"
   ]
  },
  {
   "cell_type": "code",
   "execution_count": 46,
   "id": "a820132a-c1d1-40e3-8787-8ef2f91cb365",
   "metadata": {},
   "outputs": [
    {
     "data": {
      "text/plain": [
       "[<helper.Document at 0x27adef008d0>,\n",
       " <helper.Document at 0x27adef010d0>,\n",
       " <helper.Document at 0x27adef01650>,\n",
       " <helper.Document at 0x27adef29110>,\n",
       " <helper.Document at 0x27adef29a90>,\n",
       " <helper.Document at 0x27adef2a890>,\n",
       " <helper.Document at 0x27adef2bb10>,\n",
       " <helper.Document at 0x27adef31590>,\n",
       " <helper.Document at 0x27adef34290>,\n",
       " <helper.Document at 0x27adef35690>,\n",
       " <helper.Document at 0x27adef37610>,\n",
       " <helper.Document at 0x27adef37f10>,\n",
       " <helper.Document at 0x27adef40410>,\n",
       " <helper.Document at 0x27adef43110>]"
      ]
     },
     "execution_count": 46,
     "metadata": {},
     "output_type": "execute_result"
    }
   ],
   "source": [
    "filtered_events"
   ]
  },
  {
   "cell_type": "code",
   "execution_count": 48,
   "id": "e5264f6e-b251-4c37-b78c-fc8e6706bcb7",
   "metadata": {},
   "outputs": [],
   "source": [
    "picked_events = []\n",
    "counter = 0\n",
    "for indice in indices:\n",
    "    if loaded_documents[indice] in filtered_events:\n",
    "        picked_events.append(loaded_documents[indice])\n",
    "        counter+=1\n",
    "        if counter>= 6:\n",
    "            break"
   ]
  },
  {
   "cell_type": "code",
   "execution_count": 49,
   "id": "c6ceab31-b96c-4fb9-9be5-52646c7ecf7c",
   "metadata": {},
   "outputs": [
    {
     "data": {
      "text/plain": [
       "[<helper.Document at 0x27adef29a90>,\n",
       " <helper.Document at 0x27adef34290>,\n",
       " <helper.Document at 0x27adef31590>,\n",
       " <helper.Document at 0x27adef35690>,\n",
       " <helper.Document at 0x27adef43110>,\n",
       " <helper.Document at 0x27adef010d0>]"
      ]
     },
     "execution_count": 49,
     "metadata": {},
     "output_type": "execute_result"
    }
   ],
   "source": [
    "picked_events"
   ]
  },
  {
   "cell_type": "code",
   "execution_count": 42,
   "id": "32df005e-d9df-4308-b1b3-f1973c6e3b51",
   "metadata": {},
   "outputs": [
    {
     "ename": "AttributeError",
     "evalue": "'Stream' object has no attribute 'choices'",
     "output_type": "error",
     "traceback": [
      "\u001b[1;31m---------------------------------------------------------------------------\u001b[0m",
      "\u001b[1;31mAttributeError\u001b[0m                            Traceback (most recent call last)",
      "Cell \u001b[1;32mIn[42], line 5\u001b[0m\n\u001b[0;32m      3\u001b[0m messages\u001b[38;5;241m.\u001b[39mappend({\u001b[38;5;124m\"\u001b[39m\u001b[38;5;124mrole\u001b[39m\u001b[38;5;124m\"\u001b[39m: \u001b[38;5;124m\"\u001b[39m\u001b[38;5;124muser\u001b[39m\u001b[38;5;124m\"\u001b[39m, \u001b[38;5;124m\"\u001b[39m\u001b[38;5;124mcontent\u001b[39m\u001b[38;5;124m\"\u001b[39m: question})\n\u001b[0;32m      4\u001b[0m chat_response \u001b[38;5;241m=\u001b[39m chat_completion_request(messages, tools, stream\u001b[38;5;241m=\u001b[39m\u001b[38;5;28;01mTrue\u001b[39;00m)\n\u001b[1;32m----> 5\u001b[0m assistant_message \u001b[38;5;241m=\u001b[39m \u001b[43mchat_response\u001b[49m\u001b[38;5;241;43m.\u001b[39;49m\u001b[43mchoices\u001b[49m[\u001b[38;5;241m0\u001b[39m]\u001b[38;5;241m.\u001b[39mmessage\n",
      "\u001b[1;31mAttributeError\u001b[0m: 'Stream' object has no attribute 'choices'"
     ]
    }
   ],
   "source": [
    "messages = []\n",
    "messages.append({\"role\": \"system\", \"content\": waterkant_festival_description+\"You are a helpful chatbot for the attendees of the Waterkant Festival! You answer questions about events, schedules, venue information, transportation options, or anything else. Make no speculations what topics or events are on the festival but call the function then instaed. If you are asked about any topic, event or something that is not directly be answered in a meaningful way by the description above, call the filter_events_by_day_and_time_constraints function. You respond in the same language the user asks the question!\"})\n",
    "messages.append({\"role\": \"user\", \"content\": question})\n",
    "chat_response = chat_completion_request(messages, tools, stream=True)\n",
    "#assistant_message = chat_response.choices[0].message"
   ]
  },
  {
   "cell_type": "code",
   "execution_count": 43,
   "id": "11b35ea7-e802-4b8a-8935-d600255d567d",
   "metadata": {},
   "outputs": [
    {
     "name": "stdout",
     "output_type": "stream",
     "text": [
      "ChatCompletionChunk(id='chatcmpl-9NKl8YR3EY837e8uSt3RMeBvsq9KJ', choices=[Choice(delta=ChoiceDelta(content=None, function_call=None, role='assistant', tool_calls=[ChoiceDeltaToolCall(index=0, id='call_HAeJe0w9XFCoppchbqkqvaQW', function=ChoiceDeltaToolCallFunction(arguments='', name='filter_events_by_day_and_time_constraints'), type='function')]), finish_reason=None, index=0, logprobs=None)], created=1715348370, model='gpt-3.5-turbo-0125', object='chat.completion.chunk', system_fingerprint=None)\n",
      "ChatCompletionChunk(id='chatcmpl-9NKl8YR3EY837e8uSt3RMeBvsq9KJ', choices=[Choice(delta=ChoiceDelta(content=None, function_call=None, role=None, tool_calls=[ChoiceDeltaToolCall(index=0, id=None, function=ChoiceDeltaToolCallFunction(arguments='{\"', name=None), type=None)]), finish_reason=None, index=0, logprobs=None)], created=1715348370, model='gpt-3.5-turbo-0125', object='chat.completion.chunk', system_fingerprint=None)\n",
      "ChatCompletionChunk(id='chatcmpl-9NKl8YR3EY837e8uSt3RMeBvsq9KJ', choices=[Choice(delta=ChoiceDelta(content=None, function_call=None, role=None, tool_calls=[ChoiceDeltaToolCall(index=0, id=None, function=ChoiceDeltaToolCallFunction(arguments='days', name=None), type=None)]), finish_reason=None, index=0, logprobs=None)], created=1715348370, model='gpt-3.5-turbo-0125', object='chat.completion.chunk', system_fingerprint=None)\n",
      "ChatCompletionChunk(id='chatcmpl-9NKl8YR3EY837e8uSt3RMeBvsq9KJ', choices=[Choice(delta=ChoiceDelta(content=None, function_call=None, role=None, tool_calls=[ChoiceDeltaToolCall(index=0, id=None, function=ChoiceDeltaToolCallFunction(arguments='\":\"', name=None), type=None)]), finish_reason=None, index=0, logprobs=None)], created=1715348370, model='gpt-3.5-turbo-0125', object='chat.completion.chunk', system_fingerprint=None)\n",
      "ChatCompletionChunk(id='chatcmpl-9NKl8YR3EY837e8uSt3RMeBvsq9KJ', choices=[Choice(delta=ChoiceDelta(content=None, function_call=None, role=None, tool_calls=[ChoiceDeltaToolCall(index=0, id=None, function=ChoiceDeltaToolCallFunction(arguments='Friday', name=None), type=None)]), finish_reason=None, index=0, logprobs=None)], created=1715348370, model='gpt-3.5-turbo-0125', object='chat.completion.chunk', system_fingerprint=None)\n",
      "ChatCompletionChunk(id='chatcmpl-9NKl8YR3EY837e8uSt3RMeBvsq9KJ', choices=[Choice(delta=ChoiceDelta(content=None, function_call=None, role=None, tool_calls=[ChoiceDeltaToolCall(index=0, id=None, function=ChoiceDeltaToolCallFunction(arguments='\",\"', name=None), type=None)]), finish_reason=None, index=0, logprobs=None)], created=1715348370, model='gpt-3.5-turbo-0125', object='chat.completion.chunk', system_fingerprint=None)\n",
      "ChatCompletionChunk(id='chatcmpl-9NKl8YR3EY837e8uSt3RMeBvsq9KJ', choices=[Choice(delta=ChoiceDelta(content=None, function_call=None, role=None, tool_calls=[ChoiceDeltaToolCall(index=0, id=None, function=ChoiceDeltaToolCallFunction(arguments='min', name=None), type=None)]), finish_reason=None, index=0, logprobs=None)], created=1715348370, model='gpt-3.5-turbo-0125', object='chat.completion.chunk', system_fingerprint=None)\n",
      "ChatCompletionChunk(id='chatcmpl-9NKl8YR3EY837e8uSt3RMeBvsq9KJ', choices=[Choice(delta=ChoiceDelta(content=None, function_call=None, role=None, tool_calls=[ChoiceDeltaToolCall(index=0, id=None, function=ChoiceDeltaToolCallFunction(arguments='_start', name=None), type=None)]), finish_reason=None, index=0, logprobs=None)], created=1715348370, model='gpt-3.5-turbo-0125', object='chat.completion.chunk', system_fingerprint=None)\n",
      "ChatCompletionChunk(id='chatcmpl-9NKl8YR3EY837e8uSt3RMeBvsq9KJ', choices=[Choice(delta=ChoiceDelta(content=None, function_call=None, role=None, tool_calls=[ChoiceDeltaToolCall(index=0, id=None, function=ChoiceDeltaToolCallFunction(arguments='_time', name=None), type=None)]), finish_reason=None, index=0, logprobs=None)], created=1715348370, model='gpt-3.5-turbo-0125', object='chat.completion.chunk', system_fingerprint=None)\n",
      "ChatCompletionChunk(id='chatcmpl-9NKl8YR3EY837e8uSt3RMeBvsq9KJ', choices=[Choice(delta=ChoiceDelta(content=None, function_call=None, role=None, tool_calls=[ChoiceDeltaToolCall(index=0, id=None, function=ChoiceDeltaToolCallFunction(arguments='\":\"', name=None), type=None)]), finish_reason=None, index=0, logprobs=None)], created=1715348370, model='gpt-3.5-turbo-0125', object='chat.completion.chunk', system_fingerprint=None)\n",
      "ChatCompletionChunk(id='chatcmpl-9NKl8YR3EY837e8uSt3RMeBvsq9KJ', choices=[Choice(delta=ChoiceDelta(content=None, function_call=None, role=None, tool_calls=[ChoiceDeltaToolCall(index=0, id=None, function=ChoiceDeltaToolCallFunction(arguments='00', name=None), type=None)]), finish_reason=None, index=0, logprobs=None)], created=1715348370, model='gpt-3.5-turbo-0125', object='chat.completion.chunk', system_fingerprint=None)\n",
      "ChatCompletionChunk(id='chatcmpl-9NKl8YR3EY837e8uSt3RMeBvsq9KJ', choices=[Choice(delta=ChoiceDelta(content=None, function_call=None, role=None, tool_calls=[ChoiceDeltaToolCall(index=0, id=None, function=ChoiceDeltaToolCallFunction(arguments=':', name=None), type=None)]), finish_reason=None, index=0, logprobs=None)], created=1715348370, model='gpt-3.5-turbo-0125', object='chat.completion.chunk', system_fingerprint=None)\n",
      "ChatCompletionChunk(id='chatcmpl-9NKl8YR3EY837e8uSt3RMeBvsq9KJ', choices=[Choice(delta=ChoiceDelta(content=None, function_call=None, role=None, tool_calls=[ChoiceDeltaToolCall(index=0, id=None, function=ChoiceDeltaToolCallFunction(arguments='00', name=None), type=None)]), finish_reason=None, index=0, logprobs=None)], created=1715348370, model='gpt-3.5-turbo-0125', object='chat.completion.chunk', system_fingerprint=None)\n",
      "ChatCompletionChunk(id='chatcmpl-9NKl8YR3EY837e8uSt3RMeBvsq9KJ', choices=[Choice(delta=ChoiceDelta(content=None, function_call=None, role=None, tool_calls=[ChoiceDeltaToolCall(index=0, id=None, function=ChoiceDeltaToolCallFunction(arguments='\",\"', name=None), type=None)]), finish_reason=None, index=0, logprobs=None)], created=1715348370, model='gpt-3.5-turbo-0125', object='chat.completion.chunk', system_fingerprint=None)\n",
      "ChatCompletionChunk(id='chatcmpl-9NKl8YR3EY837e8uSt3RMeBvsq9KJ', choices=[Choice(delta=ChoiceDelta(content=None, function_call=None, role=None, tool_calls=[ChoiceDeltaToolCall(index=0, id=None, function=ChoiceDeltaToolCallFunction(arguments='max', name=None), type=None)]), finish_reason=None, index=0, logprobs=None)], created=1715348370, model='gpt-3.5-turbo-0125', object='chat.completion.chunk', system_fingerprint=None)\n",
      "ChatCompletionChunk(id='chatcmpl-9NKl8YR3EY837e8uSt3RMeBvsq9KJ', choices=[Choice(delta=ChoiceDelta(content=None, function_call=None, role=None, tool_calls=[ChoiceDeltaToolCall(index=0, id=None, function=ChoiceDeltaToolCallFunction(arguments='_end', name=None), type=None)]), finish_reason=None, index=0, logprobs=None)], created=1715348370, model='gpt-3.5-turbo-0125', object='chat.completion.chunk', system_fingerprint=None)\n",
      "ChatCompletionChunk(id='chatcmpl-9NKl8YR3EY837e8uSt3RMeBvsq9KJ', choices=[Choice(delta=ChoiceDelta(content=None, function_call=None, role=None, tool_calls=[ChoiceDeltaToolCall(index=0, id=None, function=ChoiceDeltaToolCallFunction(arguments='_time', name=None), type=None)]), finish_reason=None, index=0, logprobs=None)], created=1715348370, model='gpt-3.5-turbo-0125', object='chat.completion.chunk', system_fingerprint=None)\n",
      "ChatCompletionChunk(id='chatcmpl-9NKl8YR3EY837e8uSt3RMeBvsq9KJ', choices=[Choice(delta=ChoiceDelta(content=None, function_call=None, role=None, tool_calls=[ChoiceDeltaToolCall(index=0, id=None, function=ChoiceDeltaToolCallFunction(arguments='\":\"', name=None), type=None)]), finish_reason=None, index=0, logprobs=None)], created=1715348370, model='gpt-3.5-turbo-0125', object='chat.completion.chunk', system_fingerprint=None)\n",
      "ChatCompletionChunk(id='chatcmpl-9NKl8YR3EY837e8uSt3RMeBvsq9KJ', choices=[Choice(delta=ChoiceDelta(content=None, function_call=None, role=None, tool_calls=[ChoiceDeltaToolCall(index=0, id=None, function=ChoiceDeltaToolCallFunction(arguments='23', name=None), type=None)]), finish_reason=None, index=0, logprobs=None)], created=1715348370, model='gpt-3.5-turbo-0125', object='chat.completion.chunk', system_fingerprint=None)\n",
      "ChatCompletionChunk(id='chatcmpl-9NKl8YR3EY837e8uSt3RMeBvsq9KJ', choices=[Choice(delta=ChoiceDelta(content=None, function_call=None, role=None, tool_calls=[ChoiceDeltaToolCall(index=0, id=None, function=ChoiceDeltaToolCallFunction(arguments=':', name=None), type=None)]), finish_reason=None, index=0, logprobs=None)], created=1715348370, model='gpt-3.5-turbo-0125', object='chat.completion.chunk', system_fingerprint=None)\n",
      "ChatCompletionChunk(id='chatcmpl-9NKl8YR3EY837e8uSt3RMeBvsq9KJ', choices=[Choice(delta=ChoiceDelta(content=None, function_call=None, role=None, tool_calls=[ChoiceDeltaToolCall(index=0, id=None, function=ChoiceDeltaToolCallFunction(arguments='00', name=None), type=None)]), finish_reason=None, index=0, logprobs=None)], created=1715348370, model='gpt-3.5-turbo-0125', object='chat.completion.chunk', system_fingerprint=None)\n",
      "ChatCompletionChunk(id='chatcmpl-9NKl8YR3EY837e8uSt3RMeBvsq9KJ', choices=[Choice(delta=ChoiceDelta(content=None, function_call=None, role=None, tool_calls=[ChoiceDeltaToolCall(index=0, id=None, function=ChoiceDeltaToolCallFunction(arguments='\"}', name=None), type=None)]), finish_reason=None, index=0, logprobs=None)], created=1715348370, model='gpt-3.5-turbo-0125', object='chat.completion.chunk', system_fingerprint=None)\n",
      "ChatCompletionChunk(id='chatcmpl-9NKl8YR3EY837e8uSt3RMeBvsq9KJ', choices=[Choice(delta=ChoiceDelta(content=None, function_call=None, role=None, tool_calls=None), finish_reason='tool_calls', index=0, logprobs=None)], created=1715348370, model='gpt-3.5-turbo-0125', object='chat.completion.chunk', system_fingerprint=None)\n"
     ]
    }
   ],
   "source": [
    "for chunk in chat_response:\n",
    "    print(chunk.choices[0].tools_call)"
   ]
  },
  {
   "cell_type": "code",
   "execution_count": null,
   "id": "fd96904c-7299-4642-a30b-6b3990c6cefb",
   "metadata": {},
   "outputs": [],
   "source": [
    "messages"
   ]
  },
  {
   "cell_type": "code",
   "execution_count": 24,
   "id": "2830303c-f30a-4b07-9db9-c86e42e2d6c2",
   "metadata": {},
   "outputs": [
    {
     "data": {
      "text/plain": [
       "ChatCompletionMessage(content=None, role='assistant', function_call=None, tool_calls=[ChatCompletionMessageToolCall(id='call_1pV08Sb2CudQIxbQhM4ohDRC', function=Function(arguments='{\"days\":\"Friday\"}', name='filter_events_by_day_and_time_constraints'), type='function')])"
      ]
     },
     "execution_count": 24,
     "metadata": {},
     "output_type": "execute_result"
    }
   ],
   "source": [
    "assistant_message"
   ]
  },
  {
   "cell_type": "code",
   "execution_count": 25,
   "id": "e4aa2996-8857-4ddc-9073-191f9ec1ac07",
   "metadata": {},
   "outputs": [],
   "source": [
    "messages = []\n",
    "messages.append({\"role\": \"system\", \"content\": waterkant_festival_description+\"You are a helpful chatbot for the attendees of the Waterkant Festival! You answer questions about events, schedules, venue information, transportation options, or anything else. Make no speculations what topics or events are on the festival but call the function then instaed. If you are asked about any topic, event or something that is not directly be answered in a meaningful way by the description above, call the filter_events_by_day_and_time_constraints function. You respond in the same language the user asks the question!\"})\n",
    "messages.append({\"role\": \"user\", \"content\": question})\n",
    "chat_response = chat_completion_request(messages, tools)\n",
    "assistant_message = chat_response.choices[0].message\n",
    "if assistant_message.tool_calls:\n",
    "    assistant_message.content = str(assistant_message.tool_calls[0].function)\n",
    "    messages.append({\"role\": assistant_message.role, \"content\": assistant_message.content})\n",
    "    replacements= {\"question\": question}\n",
    "    prompt= replace_placeholders(time_template, replacements)\n",
    "    time_messages= [{\"role\": \"user\", \"content\": prompt}]\n",
    "    response = chat_completion_request(time_messages, tools=None, model=GPT_MODEL)\n",
    "    filters = json.loads(str(response.choices[0].message.content))\n",
    "    filtered_events = filter_events(loaded_documents, filters)\n",
    "    picked_events = []\n",
    "    counter = 0\n",
    "    for indice in indices:\n",
    "        if loaded_documents[indice] in filtered_events:\n",
    "            picked_events.append(loaded_documents[indice])\n",
    "            counter+=1\n",
    "            if counter>= 6:\n",
    "                break\n",
    "    events_str = \"\"\n",
    "    for event in picked_events:\n",
    "        events_str+= event.content +\"\\n\\n\"\n",
    "    replacements= {\"question\": question, \"events\": events_str}\n",
    "    prompt= replace_placeholders(events_template, replacements)\n",
    "    events_messages= [{\"role\": \"user\", \"content\": prompt}]\n",
    "    response = chat_completion_request(events_messages, tools=None, model=GPT_MODEL)\n",
    "    messages.append({\"role\": \"function\", \"tool_call_id\": assistant_message.tool_calls[0].id, \"name\": assistant_message.tool_calls[0].function.name, \"content\": response.choices[0].message.content})\n",
    "\n",
    "else:\n",
    "    messages.append({\"role\": assistant_message.role, \"content\": assistant_message.content})"
   ]
  },
  {
   "cell_type": "code",
   "execution_count": 26,
   "id": "d17a23ca-df49-445c-85ff-8a6e3f1356cf",
   "metadata": {},
   "outputs": [
    {
     "data": {
      "text/plain": [
       "ChatCompletionMessage(content='Function(arguments=\\'{\"days\":\"Friday\"}\\', name=\\'filter_events_by_day_and_time_constraints\\')', role='assistant', function_call=None, tool_calls=[ChatCompletionMessageToolCall(id='call_2qIZ6RuFJBbHylA1EmjBfYFv', function=Function(arguments='{\"days\":\"Friday\"}', name='filter_events_by_day_and_time_constraints'), type='function')])"
      ]
     },
     "execution_count": 26,
     "metadata": {},
     "output_type": "execute_result"
    }
   ],
   "source": [
    "assistant_message"
   ]
  },
  {
   "cell_type": "code",
   "execution_count": 27,
   "id": "cfcc9a9a-767a-4e84-867e-7997fac1b491",
   "metadata": {},
   "outputs": [
    {
     "data": {
      "text/plain": [
       "[{'role': 'system',\n",
       "  'content': \"The Waterkant Festival is a dynamic and innovative event that takes place annually in Kiel, Germany. Since its inception in 2016, the festival has served as a platform for startups, companies, and creative thinkers to showcase and discuss their ideas on technology, sustainability, and future societal structures. The festival is organized by opencampus.sh, a non-profit association aimed at fostering education and entrepreneurship in Schleswig-Holstein.\\n\\nTypically held over two days, Waterkant Festival features a diverse array of activities including talks, workshops, and interactive exhibitions. Each year, it gathers hundreds of participants and speakers from various fields—ranging from business and science to politics and the arts—to engage in future-oriented discussions and collaborations. The festival's format includes themed sessions that cover a wide range of topics such as artificial intelligence, sustainability, new work methods, and innovative technology applications.\\n\\nWaterkant also provides a stage for startups to pitch their ideas and for thought leaders to share insights. The event fosters a strong sense of community and collaboration, with numerous opportunities for networking and co-creation. In addition to professional interactions, the festival incorporates elements of cultural engagement, including live music and social gatherings, creating a vibrant festival atmosphere directly by the waterfront.\\n\\nWaterkant is notable for its commitment to innovation and its role in promoting the economic and educational development of the region. It supports budding entrepreneurs and established businesses alike, providing a space to explore new ideas and push the boundaries of conventional industry practices\\u200bYou are a helpful chatbot for the attendees of the Waterkant Festival! You answer questions about events, schedules, venue information, transportation options, or anything else. Make no speculations what topics or events are on the festival but call the function then instaed. If you are asked about any topic, event or something that is not directly be answered in a meaningful way by the description above, call the filter_events_by_day_and_time_constraints function. You respond in the same language the user asks the question!\"},\n",
       " {'role': 'user',\n",
       "  'content': 'Can you recommend any workshops on artificial intelligence or digital technology on Friday'},\n",
       " {'role': 'assistant',\n",
       "  'content': 'Function(arguments=\\'{\"days\":\"Friday\"}\\', name=\\'filter_events_by_day_and_time_constraints\\')'},\n",
       " {'role': 'function',\n",
       "  'tool_call_id': 'call_2qIZ6RuFJBbHylA1EmjBfYFv',\n",
       "  'name': 'filter_events_by_day_and_time_constraints',\n",
       "  'content': 'Based on the events listed, the following workshops on artificial intelligence or digital technology are fitting for Friday:\\n\\n1. \"Introducing CodeEasy - an AI powered facilitation programming platform for colleges and universities\" at Waterside Tent from 13:00 - 13:45 CEST\\n2. \"Interesse an AI und CHAT GPT?\" at P2 from 13:00 - 13:45 CEST\\n3. \"Kiel.Ai Meetup: Future of Programming - KI-gestützte Anwendungsentwicklung\" at Pagody from 15:00 - 15:45 CEST\\n\\nWhile not directly related to artificial intelligence or digital technology, the following events could also be interesting:\\n- \"Künstliche Intelligenz – Werkzeuge für KMU\" at Stage 2 from 17:00 - 17:45 CEST\\n- \"Karriere mit KI, werden wir alle zur Ein-Person-Agentur?\" at Stage 1 from 17:00 - 17:45 CEST\\n\\nThese events may provide valuable insights and discussions on AI and digital technology on Friday.'}]"
      ]
     },
     "execution_count": 27,
     "metadata": {},
     "output_type": "execute_result"
    }
   ],
   "source": [
    "messages"
   ]
  },
  {
   "cell_type": "code",
   "execution_count": 92,
   "id": "20373e14-47de-4d17-bd60-f89e468371e1",
   "metadata": {},
   "outputs": [],
   "source": []
  },
  {
   "cell_type": "code",
   "execution_count": 96,
   "id": "d063b963-2910-4cdb-9563-af668b03a098",
   "metadata": {},
   "outputs": [],
   "source": []
  },
  {
   "cell_type": "code",
   "execution_count": 98,
   "id": "a2021dd5-d096-4d4e-8bbb-f8e747629ca9",
   "metadata": {},
   "outputs": [
    {
     "name": "stdout",
     "output_type": "stream",
     "text": [
      "{\n",
      "  \"days\": [\"Friday\"],\n",
      "  \"min_start_time\": \"00:00\",\n",
      "  \"max_end_time\": \"16:00\"\n",
      "}\n",
      "\n",
      "Based on your interest in Public Health, the following event might be of particular interest to you:\n",
      "- **Title:** To fear or not to fear - Visuelle Wissenschaftskommunikation der Antibiotikakrise\n",
      "  **Description:** Our project aims to bridge the gap between health science and the general public through effective visual science communication. Using the antibiotic resistance crisis as a case study, we have created a visual product that explains the solutions using evolutionary-informed therapies. However, our primary focus is on conducting research on the user experience of the product to gain insights into how to create effective science communication products.\n",
      "  **Date:** Friday June 16, 2023 10:00 - 10:45 CEST\n",
      "  **Location:** Ocean Stage\n",
      "\n",
      "Additionally, you might find the following event interesting:\n",
      "- **Title:** Ich bin ein Climate Quitter\n",
      "  **Description:** A very personal story of how I quit my dream job to join a small sustainability startup. The transformation from a jet-set business person who spent 20 years just flying around the world to a remote worker who has kept it to a minimum and tries to live climate-positive.\n",
      "  **Date:** Friday June 16, 2023 15:00 - 15:45 CEST\n",
      "  **Location:** Stage 2\n",
      "\n",
      "While not directly related to Public Health, the following event could also be of interest:\n",
      "- **Title:** Games That Make a Difference: Using the Power of Games and Gamification for Social Impact\n",
      "  **Description:** Discover the power of games and gamification in driving social impact. Join me as we explore the world of 'Games That Make a Difference' and uncover their potential to create positive change. Learn how games can address social issues, inspire action, and foster empathy.\n",
      "  **Date:** Friday June 16, 2023 14:00 - 14:45 CEST\n",
      "  **Location:** Waterside Tent\n"
     ]
    }
   ],
   "source": [
    "\n",
    "completion = client.chat.completions.create(\n",
    "    model=\"gpt-3.5-turbo\",\n",
    "    messages=messages,\n",
    "    temperature=0.0\n",
    ")\n",
    "\n",
    "print(completion.choices[0].message.content)"
   ]
  },
  {
   "cell_type": "code",
   "execution_count": 99,
   "id": "4a537a38-94e0-45ea-a1f2-3b7feea149d3",
   "metadata": {},
   "outputs": [
    {
     "data": {
      "text/plain": [
       "[{'role': 'system',\n",
       "  'content': \"The Waterkant Festival is a dynamic and innovative event that takes place annually in Kiel, Germany. Since its inception in 2016, the festival has served as a platform for startups, companies, and creative thinkers to showcase and discuss their ideas on technology, sustainability, and future societal structures. The festival is organized by opencampus.sh, a non-profit association aimed at fostering education and entrepreneurship in Schleswig-Holstein.\\n\\nTypically held over two days, Waterkant Festival features a diverse array of activities including talks, workshops, and interactive exhibitions. Each year, it gathers hundreds of participants and speakers from various fields—ranging from business and science to politics and the arts—to engage in future-oriented discussions and collaborations. The festival's format includes themed sessions that cover a wide range of topics such as artificial intelligence, sustainability, new work methods, and innovative technology applications.\\n\\nWaterkant also provides a stage for startups to pitch their ideas and for thought leaders to share insights. The event fosters a strong sense of community and collaboration, with numerous opportunities for networking and co-creation. In addition to professional interactions, the festival incorporates elements of cultural engagement, including live music and social gatherings, creating a vibrant festival atmosphere directly by the waterfront.\\n\\nWaterkant is notable for its commitment to innovation and its role in promoting the economic and educational development of the region. It supports budding entrepreneurs and established businesses alike, providing a space to explore new ideas and push the boundaries of conventional industry practices\\u200bYou are a helpful chatbot for the attendees of the Waterkant Festival! You answer questions about events, schedules, venue information, transportation options, or anything else. Make no speculations what topics or events are on the festival but call the function then instaed. If you are asked about any topic, event or something that is not directly be answered in a meaningful way by the description above, call the filter_events_by_day_and_time_constraints function. You respond in the same language the user asks the question!\"},\n",
       " {'role': 'user', 'content': 'I am interested in Public Health'},\n",
       " {'role': 'user',\n",
       "  'content': 'Extract time-related information such as days of the week, start times, and end times from a question, and format them as specified, follow these steps:\\n\\nIdentify Time Information: Begin by scrutinizing the question to identify mentions of specific days, times, or durations. Key elements to look for include:\\nDays of the week (e.g., Monday, Tuesday, etc.).\\nTime expressions (e.g., \"9 AM\", \"1400 hours\", \"from 9 to 11\").\\nKeywords suggesting time durations (e.g., \"morning\", \"evening\", \"all day\").\\nList Days of the Week: If any days are mentioned:\\nNote each day explicitly mentioned. Include all days in a mentioned range (e.g., \"Monday to Friday\").\\nEnsure days are fully spelled out (e.g., \"Monday\", not \"Mon\") and capitalized.\\nDetermine Start and End Times:\\nLook for specific times mentioned for starting or ending, noted in either 12-hour or 24-hour format.\\nDecide if each time refers to a start time or end time based on contextual keywords like \"from\", \"start at\", \"until\", \"end by\".\\nConvert times in 12-hour format (AM/PM) into 24-hour format for consistency (e.g., \"2 PM\" becomes \"14:00\").\\nCalculate Minimum Start Time and Maximum End Time:\\nFrom all start times identified, choose the earliest as \"min_start_time\".\\nFrom all end times, select the latest as \"max_end_time\".\\nTimes should be in the \"HH:MM\" format (e.g., \"09:00\", \"18:00\").\\nCheck for Default Values:\\nIf no days are mentioned in the question, default to [\\'Thursday\\', \\'Friday\\'].\\nIf no start or end times are provided, use \\'00:00\\' as the default \"min_start_time\" and \\'23:00\\' as the \"max_end_time\".\\nFormat the Output:\\nOrganize the data into a dictionary format with keys: \\'days\\', \\'min_start_time\\', and \\'max_end_time\\'.\\nUnder \\'days\\', include the listed or default days in square brackets.\\nAssign the respective or default values to \\'min_start_time\\' and \\'max_end_time\\'.\\nExample:\\nIf the question is \"When are late night discussions held?\", and no specific days or times are mentioned, your output should look like this:\\n\\n{\\n  \"days\": [\"Thursday\", \"Friday\"],\\n  \"min_start_time\": \"00:00\",\\n  \"max_end_time\": \"23:00\"\\n}\\nExample:\\nIf the question is \"What are the events on Friday starting at 9 AM and ending before 4 PM?\", your formatted output should look like this:\\n{\\n  \"days\": [\"Friday\"],\\n  \"min_start_time\": \"00:00\",\\n  \"max_end_time\": \"16:00\"\\n}\\n\\nHere is the question:\\nI am interested in Public Health\\n'},\n",
       " {'role': 'user',\n",
       "  'content': 'Here is a list of events which could be helpful to answer the question:\\n\\nTitel: To fear or not to fear - Visuelle Wissenschaftskommunikation der Antibiotikakrise\\nBeschreibung: Our project aims to bridge the gap between health science and the general public through effective visual science communication. Using the antibiotic resistance crisis as a case study, we have created a visual product that explains the solutions using evolutionary-informed therapies. However, our primary focus is on conducting research on the user experience of the product to gain insights into how to create effective science communication products.\"Unser Projekt zielt darauf ab, die Kluft zwischen Gesundheitswissenschaft und der breiten Öffentlichkeit durch effektive visuelle Wissenschaftskommunikation zu überbrücken. Mit der Antibiotikaresistenzkrise als Fallstudie haben wir ein visuelles Produkt erstellt, das die Lösungen mithilfe evolutionsinformierter Therapien erklärt. Unser Hauptaugenmerk liegt jedoch darauf, Forschung zur User Experience des Produkts durchzuführen, um Erkenntnisse darüber zu gewinnen, wie effektive Wissenschaftskommunikationsprodukte erstellt werden können.Diese Session ist Teil desKieler Netzwerks für Wissenschaftskommunikation\\nDatum: Friday June 16, 2023 10:00 - 10:45 CEST\\nOrt: Ocean Stage\\n\\nTitel: Games That Make a Difference: Using the Power of Games and Gamification for Social Impact\\nBeschreibung: Discover the power of games and gamification in driving social impact. Join me as we explore the world of \\'Games That Make a Difference\\' and uncover their potential to create positive change. Learn how games can address social issues, inspire action, and foster empathy. Whether you\\'re a game enthusiast, developer, educator, or change advocate, this session will open your eyes to the transformative possibilities at the intersection of games and social impact.\\nDatum: Friday June 16, 2023 14:00 - 14:45 CEST\\nOrt: Waterside Tent\\n\\nTitel: Zielgruppenfindung: Wissenschaftliche Kunst, reines Glücksspiel oder irgendwas dazwischen?\\nBeschreibung: In der Forschung gibt es verschiedene Ansätze, um Zielgruppen zu finden, zu analysieren und schließlich anzusprechen. Doch führt ein solches datengetriebenes Vorgehen auf Basis von beispielsweise demografischen oder psychografischen Merkmalen wirklich zum gewünschten Ziel oder sind es am Ende nicht vielmehr Intuition und Erfahrung die in der Zielgruppenidentifizierung den Erfolg ausmachen? Dieser und weiteren Fragen gehen Expertinnen und Experten aus Praxis und Forschung in einer Podiumsdiskussion gemeinsam nach.KielSCN-Doktorandin Anna Vollersen stellt dazu zu Beginn verschiedene Forschungsansätze zur Zielgruppenanalyse vor. Im Gespräch mit Andreas Schmidt vom Norddeutschen Rundfunk sowie Daniel Lingenhöhl und Dennis Dirdjaja von Spektrum der Wissenschaft werden diese dann mit den Erfahrungen aus der Wissesnchaftskommunikations-Praxis zusammengebracht. Moderiert wird das Gespräch von Ilka Parchmann.\\nDatum: Friday June 16, 2023 14:00 - 14:45 CEST\\nOrt: Pagody\\n\\nTitel: Ich bin ein Climate Quitter\\nBeschreibung: Eine ganz persoenliche Geschichte, wie ich meinen Traumjob gekündigt habe, um mich einem kleinen Nachhaltigkeits-Startup anzuschliessen. Die Transformation vom Jetset-Business Menschen, der 20 Jahre nur um die Welt flog, hin zum Remote Worker, der das auf ein Minimum reduziert hat und versucht Klimapositiv zu leben.A very personal story of how I quit my dream job to join a small sustainability startup. The transformation from a jet-set business person who spent 20 years just flying around the world to a remote worker who has kept it to a minimum and tries to live climate-positive.\\nDatum: Friday June 16, 2023 15:00 - 15:45 CEST\\nOrt: Stage 2\\n\\nTitel: How to position and market internationally – Lessons from Denmark, Germany & Kenya\\nBeschreibung: I will try to give more insides into how to establish and grow a startup on a global market, using my experience from the different countries I worked in.\\xa0My session is going to be a workshop, where everyone will get small tasks and get the chance to interact with the whole group.\\xa0I am looking forward to interacting with startups and entrepreneurs, who have an interest in going global and making the world their market!\\nDatum: Friday June 16, 2023 16:00 - 16:45 CEST\\nOrt: Waterside Tent\\n\\nTitel: Interesse an AI und CHAT GPT?\\nBeschreibung: Lust, ein AI Startup selbst aufzubauen oder während des Studiums in einem AI Startup mitzuwirken? Dann bist Du bei uns richtig! Der AI.STARTUP.HUB Hamburg fördert das erfolgreiche Wachstum von AI Startups in Norddeutschland.Unser AI Ideation Programm bietet Dir viele Möglichkeiten, Deine Ideen in die Realität umzusetzen. Wir bieten unter anderem:- Ein Stipendium von bis zu 1.500€/Monat/ Teammitglied (max. 3) für 6 Monate- Einen Zuschuss von bis zu 10.500 € für Material und Ausrüstung- Einen Co-Working Space im Herzen von Hamburg- Persönlicher Start-up-Berater und KI-Experten aus unserem Netzwerk- Individuelle Workshop-Formate und 1:1-Sessions Gründungs-Know-HowNoch Fragen? Komm vorbei!\\nDatum: Thursday June 15, 2023 19:00 - 19:45 CEST\\nOrt: P1\\n\\nAnswer the question based on the information above. Answer in the language of the question. Answer with which events are really fitting to the question and which might not be directly but could also be interesting. Here is the question again:\\nI am interested in Public Health'}]"
      ]
     },
     "execution_count": 99,
     "metadata": {},
     "output_type": "execute_result"
    }
   ],
   "source": [
    "messages"
   ]
  },
  {
   "cell_type": "code",
   "execution_count": null,
   "id": "62aa5893-fb50-43d8-9617-2032e01ab5c0",
   "metadata": {},
   "outputs": [],
   "source": []
  }
 ],
 "metadata": {
  "kernelspec": {
   "display_name": "Python 3 (ipykernel)",
   "language": "python",
   "name": "python3"
  },
  "language_info": {
   "codemirror_mode": {
    "name": "ipython",
    "version": 3
   },
   "file_extension": ".py",
   "mimetype": "text/x-python",
   "name": "python",
   "nbconvert_exporter": "python",
   "pygments_lexer": "ipython3",
   "version": "3.11.5"
  }
 },
 "nbformat": 4,
 "nbformat_minor": 5
}
