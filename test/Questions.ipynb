{
 "cells": [
  {
   "cell_type": "code",
   "execution_count": null,
   "id": "ac03a1b9-fbc2-4111-a948-049c05987570",
   "metadata": {},
   "outputs": [],
   "source": [
    "# Create a list of questions and save it as a JSON lines file.\n",
    "questions = [\n",
    "    \"Are there any sessions specifically focused on green technology or sustainability?\",\n",
    "    \"Can you recommend any workshops on artificial intelligence or digital technology?\",\n",
    "    \"Which sessions involve hands-on experiences or interactive activities?\",\n",
    "    \"Are there any networking events scheduled for today? Where and when do they take place?\",\n",
    "    \"Is there a session on the future of education? I am interested in learning about new educational technologies.\",\n",
    "    \"What are today's sessions on startup investment strategies, and where are they located?\",\n",
    "    \"Can you direct me to any discussions on the future of democracy or civic tech innovations?\",\n",
    "    \"Where can I participate in discussions about the future of food and agriculture technologies?\",\n",
    "    \"Are there any expert panels on the impact of technology in urban planning?\",\n",
    "    \"Which sessions today focus on climate change and what are their locations?\",\n",
    "    \"How can I join the session on ocean technology and marine conservation?\",\n",
    "    \"What innovative health tech solutions are being discussed today?\",\n",
    "    \"Is there a workshop on the integration of blockchain in traditional industries?\",\n",
    "    \"Can I find out more about the cultural impact of technology in today's talks?\",\n",
    "    \"Where are the sessions that focus on women in tech and diversity in the startup ecosystem?\",\n",
    "    \"Are there any panels discussing ethical issues in AI development?\",\n",
    "    \"Can I find workshops that offer practical advice on securing funding for green startups?\",\n",
    "    \"What interactive exhibits focus on the latest advancements in renewable energy?\",\n",
    "    \"Where can I join discussions about the role of technology in enhancing public services?\",\n",
    "    \"Is there a session exploring the intersection of technology and art?\",\n",
    "    \"What are the key topics for today's discussions on digital transformation in traditional industries?\",\n",
    "    \"How can I participate in a workshop on data privacy and security in the digital age?\",\n",
    "    \"Are there any sessions today that explore the use of AI in healthcare?\",\n",
    "    \"Which events today focus on fostering inclusivity in tech environments?\",\n",
    "    \"Where can I find discussions on the impact of digital technologies on rural development?\",\n",
    "    \"What sessions today are focused on the practical applications of blockchain beyond cryptocurrency?\",\n",
    "    \"Can you recommend any talks on the advancements in smart cities technologies?\",\n",
    "    \"Where are the discussions on sustainable transportation technologies taking place?\",\n",
    "    \"Which sessions will cover the latest trends in e-commerce and digital marketing?\",\n",
    "    \"Are there any expert talks on how to leverage IoT for business efficiency?\"\n",
    "]\n",
    "\n",
    "# Saving the questions to a JSON lines file\n",
    "file_path = \"Waterkant_Festival_Questions.jsonl\"\n",
    "\n",
    "# Writing to file\n",
    "with open(file_path, \"w\") as file:\n",
    "    for question in questions:\n",
    "        file.write(f\"{json.dumps({'question': question})}\\n\")"
   ]
  }
 ],
 "metadata": {
  "kernelspec": {
   "display_name": "Python 3 (ipykernel)",
   "language": "python",
   "name": "python3"
  },
  "language_info": {
   "codemirror_mode": {
    "name": "ipython",
    "version": 3
   },
   "file_extension": ".py",
   "mimetype": "text/x-python",
   "name": "python",
   "nbconvert_exporter": "python",
   "pygments_lexer": "ipython3",
   "version": "3.11.5"
  }
 },
 "nbformat": 4,
 "nbformat_minor": 5
}
