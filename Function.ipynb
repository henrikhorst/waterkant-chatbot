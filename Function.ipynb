{
 "cells": [
  {
   "cell_type": "markdown",
   "id": "6b9c4b1a-f1ac-48cb-b671-88d7d1fc9f4e",
   "metadata": {},
   "source": [
    "## Function Calling"
   ]
  },
  {
   "cell_type": "code",
   "execution_count": 28,
   "id": "cc514c84-dedc-4548-9a42-c484145f0141",
   "metadata": {},
   "outputs": [],
   "source": [
    "from helper import Document\n",
    "with open('./prep/documents.json', 'r') as file:\n",
    "            json_documents = json.load(file)\n",
    "\n",
    "loaded_documents = [Document.from_json(json_str) for json_str in json_documents]"
   ]
  },
  {
   "cell_type": "code",
   "execution_count": 186,
   "id": "64e59293-e970-4268-bea7-8da346556226",
   "metadata": {},
   "outputs": [],
   "source": [
    "from datetime import datetime\n",
    "\n",
    "def filter_events_by_day_and_time_constraints(events, target_day, earliest_start_time=\"00:00\", latest_end_time=None, cutoff_start_time=\"23:59\"):\n",
    "    earliest_start_time_obj = datetime.strptime(earliest_start_time, \"%H:%M\").time()\n",
    "    latest_end_time_obj = None if latest_end_time is None else datetime.strptime(latest_end_time, \"%H:%M\").time()\n",
    "    cutoff_start_time_obj = datetime.strptime(cutoff_start_time, \"%H:%M\").time()\n",
    "\n",
    "    filtered_events = []\n",
    "    for event in events:\n",
    "        try:\n",
    "            event_day = event.metadata['date']['day']\n",
    "            event_start_time_str = event.metadata['date']['start_time']\n",
    "            event_end_time_str = event.metadata['date'].get('end_time')  # Handle case where end_time might not be provided\n",
    "            \n",
    "            if event_day == target_day and event_start_time_str:\n",
    "                event_start_time = datetime.strptime(event_start_time_str, \"%H:%M\").time()\n",
    "                \n",
    "                # Filter events that start before the specified cutoff time\n",
    "                if cutoff_start_time_obj and event_start_time < cutoff_start_time_obj:\n",
    "                    filtered_events.append(event)\n",
    "                elif earliest_start_time_obj and event_start_time >= earliest_start_time_obj:\n",
    "                    if latest_end_time_obj and event_end_time_str:\n",
    "                        event_end_time = datetime.strptime(event_end_time_str, \"%H:%M\").time()\n",
    "                        if event_end_time <= latest_end_time_obj:\n",
    "                            filtered_events.append(event)\n",
    "                    else:\n",
    "                        filtered_events.append(event)\n",
    "        except ValueError:\n",
    "            continue  # Skip this event if there's a format error\n",
    "\n",
    "    return filtered_events\n"
   ]
  },
  {
   "cell_type": "code",
   "execution_count": 188,
   "id": "7ab420b0-5e18-4a62-8619-ac6cdba3e912",
   "metadata": {},
   "outputs": [
    {
     "data": {
      "text/plain": [
       "True"
      ]
     },
     "execution_count": 188,
     "metadata": {},
     "output_type": "execute_result"
    }
   ],
   "source": [
    "from dotenv import load_dotenv\n",
    "\n",
    "load_dotenv()  # This loads the environment variables from .env"
   ]
  },
  {
   "cell_type": "code",
   "execution_count": 189,
   "id": "026bce7a-5c51-4797-8f87-052e598035cc",
   "metadata": {},
   "outputs": [],
   "source": [
    "from openai import OpenAI\n",
    "client = OpenAI()\n",
    "GPT_MODEL = \"gpt-3.5-turbo\"\n",
    "def chat_completion_request(messages, tools=None, tool_choice=None, model=GPT_MODEL):\n",
    "    try:\n",
    "        response = client.chat.completions.create(\n",
    "            model=model,\n",
    "            messages=messages,\n",
    "            tools=tools,\n",
    "            tool_choice=tool_choice,\n",
    "        )\n",
    "        return response\n",
    "    except Exception as e:\n",
    "        print(\"Unable to generate ChatCompletion response\")\n",
    "        print(f\"Exception: {e}\")\n",
    "        return e\n",
    "\n"
   ]
  },
  {
   "cell_type": "code",
   "execution_count": 190,
   "id": "3e9f04af-d492-4762-803f-7621d8e61797",
   "metadata": {},
   "outputs": [],
   "source": [
    "tools = [{\n",
    "    \"type\": \"function\",\n",
    "    \"function\": {\n",
    "        \"name\": \"filter_events_by_day_and_time_constraints\",\n",
    "        \"description\": \"Filters a list of events based on specific day and time constraints, including earliest and latest permissible times for event start and end.\",\n",
    "        \"parameters\": {\n",
    "            \"type\": \"object\",\n",
    "            \"properties\": {\n",
    "                \"target_day\": {\n",
    "                    \"type\": \"string\",\n",
    "                    \"description\": \"The specific day of the week to filter events for, e.g., 'Monday', 'Tuesday'.\"\n",
    "                },\n",
    "                \"earliest_start_time\": {\n",
    "                    \"type\": \"string\",\n",
    "                    \"description\": \"The earliest permissible start time for events, in 24-hour format, e.g., '08:00' for 8 AM.\"\n",
    "                },\n",
    "                \"latest_end_time\": {\n",
    "                    \"type\": \"string\",\n",
    "                    \"description\": \"The latest permissible ending time for events, if specified, in 24-hour format, e.g., '17:00' for 5 PM.\"\n",
    "                },\n",
    "                \"cutoff_start_time\": {\n",
    "                    \"type\": \"string\",\n",
    "                    \"description\": \"The cutoff start time for considering events, any event starting after this time will be excluded, e.g., '23:00'.\"\n",
    "                }\n",
    "            }\n",
    "        }\n",
    "    }\n",
    "}]\n"
   ]
  },
  {
   "cell_type": "code",
   "execution_count": 180,
   "id": "4cba2a2d-c905-496a-ad4c-b52658bcbcc7",
   "metadata": {},
   "outputs": [],
   "source": [
    "import json\n",
    "def execute_function_call(message):\n",
    "    if message.tool_calls[0].function.name == \"filter_events_by_day_and_time_constraints\":\n",
    "        kwargs = json.loads(message.tool_calls[0].function.arguments)\n",
    "        results = filter_events_by_day_and_time_constraints(loaded_documents, **kwargs)\n",
    "    else:\n",
    "        results = f\"Error: function {message.tool_calls[0].function.name} does not exist\"\n",
    "    return results"
   ]
  },
  {
   "cell_type": "code",
   "execution_count": null,
   "id": "675db2a9-a41a-4263-ad7c-68e97bf0a166",
   "metadata": {},
   "outputs": [],
   "source": []
  },
  {
   "cell_type": "code",
   "execution_count": 184,
   "id": "41c8c27a-4d11-4fd8-a158-6d54610fe7d3",
   "metadata": {},
   "outputs": [],
   "source": [
    "messages = []\n",
    "messages.append({\"role\": \"system\", \"content\": waterkant_festival_description+\"You are a helpful chatbot for the attendees of the Waterkant Festival! You answer questions about events, schedules, venue information, transportation options, or anything else. The attendees should feel free to ask you. You respond in the same language the user asks the question!\"})\n",
    "messages.append({\"role\": \"user\", \"content\": \"Seit wann gibt es das Waterkant festival\"})\n",
    "chat_response = chat_completion_request(messages, tools)\n",
    "assistant_message = chat_response.choices[0].message\n",
    "\n",
    "if assistant_message.tool_calls:\n",
    "    assistant_message.content = str(assistant_message.tool_calls[0].function)\n",
    "    messages.append({\"role\": assistant_message.role, \"content\": assistant_message.content})\n",
    "    results = execute_function_call(assistant_message)\n",
    "    messages.append({\"role\": \"function\", \"tool_call_id\": assistant_message.tool_calls[0].id, \"name\": assistant_message.tool_calls[0].function.name, \"content\": results})\n",
    "else:\n",
    "    messages.append({\"role\": assistant_message.role, \"content\": assistant_message.content})"
   ]
  },
  {
   "cell_type": "code",
   "execution_count": 185,
   "id": "ac428323-5a61-4394-9398-54a583d56052",
   "metadata": {},
   "outputs": [
    {
     "data": {
      "text/plain": [
       "[{'role': 'system',\n",
       "  'content': \"The Waterkant Festival is a dynamic and innovative event that takes place annually in Kiel, Germany. Since its inception in 2016, the festival has served as a platform for startups, companies, and creative thinkers to showcase and discuss their ideas on technology, sustainability, and future societal structures. The festival is organized by opencampus.sh, a non-profit association aimed at fostering education and entrepreneurship in Schleswig-Holstein.\\n\\nTypically held over two days, Waterkant Festival features a diverse array of activities including talks, workshops, and interactive exhibitions. Each year, it gathers hundreds of participants and speakers from various fields—ranging from business and science to politics and the arts—to engage in future-oriented discussions and collaborations. The festival's format includes themed sessions that cover a wide range of topics such as artificial intelligence, sustainability, new work methods, and innovative technology applications.\\n\\nWaterkant also provides a stage for startups to pitch their ideas and for thought leaders to share insights. The event fosters a strong sense of community and collaboration, with numerous opportunities for networking and co-creation. In addition to professional interactions, the festival incorporates elements of cultural engagement, including live music and social gatherings, creating a vibrant festival atmosphere directly by the waterfront.\\n\\nWaterkant is notable for its commitment to innovation and its role in promoting the economic and educational development of the region. It supports budding entrepreneurs and established businesses alike, providing a space to explore new ideas and push the boundaries of conventional industry practices\\u200bYou are a helpful chatbot for the attendees of the Waterkant Festival! You answer questions about events, schedules, venue information, transportation options, or anything else. The attendees should feel free to ask you. You respond in the same language the user asks the question!\"},\n",
       " {'role': 'user', 'content': 'Seit wann gibt es das Waterkant festival'},\n",
       " {'role': 'assistant',\n",
       "  'content': 'Das Waterkant Festival gibt es seit 2016. Es wurde erstmals in diesem Jahr ins Leben gerufen und hat seitdem kontinuierlich stattgefunden.'}]"
      ]
     },
     "execution_count": 185,
     "metadata": {},
     "output_type": "execute_result"
    }
   ],
   "source": [
    "messages"
   ]
  },
  {
   "cell_type": "code",
   "execution_count": 17,
   "id": "0a0e091f-4f64-476b-86ab-1b49983fb1b5",
   "metadata": {},
   "outputs": [
    {
     "data": {
      "text/plain": [
       "{'day': 'Friday', 'min_start_time': '00:00'}"
      ]
     },
     "execution_count": 17,
     "metadata": {},
     "output_type": "execute_result"
    }
   ],
   "source": [
    "json.loads(assistant_message.tool_calls[0].function.arguments)"
   ]
  },
  {
   "cell_type": "code",
   "execution_count": 20,
   "id": "feddc51d-0787-4c0f-8d21-8a6b58002690",
   "metadata": {},
   "outputs": [
    {
     "data": {
      "text/plain": [
       "'filter_events_by_day_and_time'"
      ]
     },
     "execution_count": 20,
     "metadata": {},
     "output_type": "execute_result"
    }
   ],
   "source": [
    "assistant_message.tool_calls[0].function.name"
   ]
  },
  {
   "cell_type": "code",
   "execution_count": 11,
   "id": "f1989ae1-95f7-4f11-acdc-ab2d3df1da57",
   "metadata": {},
   "outputs": [
    {
     "name": "stdout",
     "output_type": "stream",
     "text": [
      "{'day': 'Saturday', 'current_time': '18:22'}\n"
     ]
    }
   ],
   "source": [
    "from datetime import datetime\n",
    "\n",
    "# Get the current datetime\n",
    "now = datetime.now()\n",
    "\n",
    "# Extract day name, hour, and minute\n",
    "day_name = now.strftime(\"%A\")\n",
    "start_time = now.strftime(\"%H:%M\")\n",
    "\n",
    "# Create a dictionary with formatted output\n",
    "formatted_output = {\n",
    "    'day': day_name,\n",
    "    'current_time': start_time\n",
    "}\n",
    "\n",
    "# Print results\n",
    "print(formatted_output)\n"
   ]
  },
  {
   "cell_type": "code",
   "execution_count": 124,
   "id": "124aabf6-f3aa-476a-a901-c9ff35f5e64b",
   "metadata": {},
   "outputs": [],
   "source": [
    "template=\"\"\"Extract time-related information such as days of the week, start times, and end times from a question, and format them as specified, follow these steps:\n",
    "\n",
    "Identify Time Information: Begin by scrutinizing the question to identify mentions of specific days, times, or durations. Key elements to look for include:\n",
    "Days of the week (e.g., Monday, Tuesday, etc.).\n",
    "Time expressions (e.g., \"9 AM\", \"1400 hours\", \"from 9 to 11\").\n",
    "Keywords suggesting time durations (e.g., \"morning\", \"evening\", \"all day\").\n",
    "List Days of the Week: If any days are mentioned:\n",
    "Note each day explicitly mentioned. Include all days in a mentioned range (e.g., \"Monday to Friday\").\n",
    "Ensure days are fully spelled out (e.g., \"Monday\", not \"Mon\") and capitalized.\n",
    "Determine Start and End Times:\n",
    "Look for specific times mentioned for starting or ending, noted in either 12-hour or 24-hour format.\n",
    "Decide if each time refers to a start time or end time based on contextual keywords like \"from\", \"start at\", \"until\", \"end by\".\n",
    "Convert times in 12-hour format (AM/PM) into 24-hour format for consistency (e.g., \"2 PM\" becomes \"14:00\").\n",
    "Calculate Minimum Start Time and Maximum End Time:\n",
    "From all start times identified, choose the earliest as \"min_start_time\".\n",
    "From all end times, select the latest as \"max_end_time\".\n",
    "Times should be in the \"HH:MM\" format (e.g., \"09:00\", \"18:00\").\n",
    "Check for Default Values:\n",
    "If no days are mentioned in the question, default to ['Thursday', 'Friday'].\n",
    "If no start or end times are provided, use '00:00' as the default \"min_start_time\" and '23:00' as the \"max_end_time\".\n",
    "Format the Output:\n",
    "Organize the data into a dictionary format with keys: 'days', 'min_start_time', and 'max_end_time'.\n",
    "Under 'days', include the listed or default days in square brackets.\n",
    "Assign the respective or default values to 'min_start_time' and 'max_end_time'.\n",
    "Example:\n",
    "If the question is \"When are late night discussions held?\", and no specific days or times are mentioned, your output should look like this:\n",
    "\n",
    "{\n",
    "  \"days\": [\"Thursday\", \"Friday\"],\n",
    "  \"min_start_time\": \"00:00\",\n",
    "  \"max_end_time\": \"23:00\"\n",
    "}\n",
    "Example:\n",
    "If the question is \"What are the events on Friday starting at 9 AM and ending before 4 PM?\", your formatted output should look like this:\n",
    "{\n",
    "  \"days\": [\"Friday\"],\n",
    "  \"min_start_time\": \"00:00\",\n",
    "  \"max_end_time\": \"16:00\"\n",
    "}\n",
    "\n",
    "Here is the question:\n",
    "%question%\n",
    "\"\"\""
   ]
  },
  {
   "cell_type": "code",
   "execution_count": 125,
   "id": "0ac2b6bf-f74f-4c25-adb8-c2d4a85edd52",
   "metadata": {},
   "outputs": [],
   "source": [
    "def replace_placeholders(template, replacements):\n",
    "    for key, value in replacements.items():\n",
    "        placeholder = \"%\" + key + \"%\"\n",
    "        template = template.replace(placeholder, value)\n",
    "    return template"
   ]
  },
  {
   "cell_type": "code",
   "execution_count": 135,
   "id": "046ba859-550e-46d5-8bce-c163377c4691",
   "metadata": {},
   "outputs": [],
   "source": [
    "question = \"What events are about on Friday at 7 pm on sustainability\""
   ]
  },
  {
   "cell_type": "code",
   "execution_count": 136,
   "id": "67e232bb-9137-4e76-9194-2787eb2f6bb5",
   "metadata": {},
   "outputs": [],
   "source": [
    "replacements= {\"question\": question}"
   ]
  },
  {
   "cell_type": "code",
   "execution_count": 137,
   "id": "2d584884-9b11-4874-85d7-abbd500fbe1d",
   "metadata": {},
   "outputs": [],
   "source": [
    "prompt= replace_placeholders(template, replacements)"
   ]
  },
  {
   "cell_type": "code",
   "execution_count": 138,
   "id": "85a03898-5bf2-4d98-9a1e-f84e6755183a",
   "metadata": {},
   "outputs": [],
   "source": [
    "messages= [{\"role\": \"user\", \"content\": prompt}]"
   ]
  },
  {
   "cell_type": "code",
   "execution_count": 139,
   "id": "0380bc28-60de-49cc-94ed-43408a381a45",
   "metadata": {},
   "outputs": [],
   "source": [
    "response = client.chat.completions.create(\n",
    "            model=\"gpt-3.5-turbo\",\n",
    "            messages=messages,\n",
    "            temperature=0.0)"
   ]
  },
  {
   "cell_type": "code",
   "execution_count": 140,
   "id": "2992752b-738b-48f6-bb4a-c5a673262309",
   "metadata": {},
   "outputs": [
    {
     "data": {
      "text/plain": [
       "'{\\n  \"days\": [\"Friday\"],\\n  \"min_start_time\": \"19:00\",\\n  \"max_end_time\": \"19:00\"\\n}'"
      ]
     },
     "execution_count": 140,
     "metadata": {},
     "output_type": "execute_result"
    }
   ],
   "source": [
    "response.choices[0].message.content"
   ]
  },
  {
   "cell_type": "code",
   "execution_count": 141,
   "id": "211d2b59-98d9-45a9-9e12-a496af3dfaf5",
   "metadata": {},
   "outputs": [],
   "source": [
    "import json"
   ]
  },
  {
   "cell_type": "code",
   "execution_count": 142,
   "id": "3042db99-727b-4977-a262-136246041d96",
   "metadata": {},
   "outputs": [
    {
     "data": {
      "text/plain": [
       "{'days': ['Friday'], 'min_start_time': '19:00', 'max_end_time': '19:00'}"
      ]
     },
     "execution_count": 142,
     "metadata": {},
     "output_type": "execute_result"
    }
   ],
   "source": [
    "json.loads(str(response.choices[0].message.content))"
   ]
  },
  {
   "cell_type": "code",
   "execution_count": 169,
   "id": "1f38b4e9-eb1c-4a1c-98b1-8a2cefd202be",
   "metadata": {},
   "outputs": [],
   "source": [
    "question = \"Welche KI Events sind am Freitag bis 15 Uhr\""
   ]
  },
  {
   "cell_type": "code",
   "execution_count": null,
   "id": "4903b9fc-b010-410e-9a3f-32bc7f29699b",
   "metadata": {},
   "outputs": [],
   "source": []
  },
  {
   "cell_type": "code",
   "execution_count": 170,
   "id": "e9a960ea-523e-4ab3-bf6b-cef7b1673de9",
   "metadata": {},
   "outputs": [],
   "source": [
    "waterkant_festival_description = \"\"\"The Waterkant Festival is a dynamic and innovative event that takes place annually in Kiel, Germany. Since its inception in 2016, the festival has served as a platform for startups, companies, and creative thinkers to showcase and discuss their ideas on technology, sustainability, and future societal structures. The festival is organized by opencampus.sh, a non-profit association aimed at fostering education and entrepreneurship in Schleswig-Holstein.\n",
    "\n",
    "Typically held over two days, Waterkant Festival features a diverse array of activities including talks, workshops, and interactive exhibitions. Each year, it gathers hundreds of participants and speakers from various fields—ranging from business and science to politics and the arts—to engage in future-oriented discussions and collaborations. The festival's format includes themed sessions that cover a wide range of topics such as artificial intelligence, sustainability, new work methods, and innovative technology applications.\n",
    "\n",
    "Waterkant also provides a stage for startups to pitch their ideas and for thought leaders to share insights. The event fosters a strong sense of community and collaboration, with numerous opportunities for networking and co-creation. In addition to professional interactions, the festival incorporates elements of cultural engagement, including live music and social gatherings, creating a vibrant festival atmosphere directly by the waterfront.\n",
    "\n",
    "Waterkant is notable for its commitment to innovation and its role in promoting the economic and educational development of the region. It supports budding entrepreneurs and established businesses alike, providing a space to explore new ideas and push the boundaries of conventional industry practices​\"\"\""
   ]
  },
  {
   "cell_type": "code",
   "execution_count": 171,
   "id": "8d6cd17a-5e56-487a-b917-a6015426094e",
   "metadata": {},
   "outputs": [],
   "source": [
    "template=\"General info\\n\\n\"+waterkant_festival_description+\"\\n--------------\\n\"+\"Answer the user question in the language of the user if the question is answered by the text above. If the question aims at something that has nothing to do, inform the user that he should only ask questions regarding the topis around the Waterkant Festival. If the user asks about activities and events return exactly this: 'events'.\\n Example:\\nQuestion:\\n What is the difference between Burger and Pommes?\\nPlease ask only questions regardings the Waterkant festival. Thanks!\\n\\n Here is the question:\\n%question%\""
   ]
  },
  {
   "cell_type": "code",
   "execution_count": 172,
   "id": "0be535eb-e6da-4699-ab19-b34d3b70e3dc",
   "metadata": {},
   "outputs": [],
   "source": [
    "system_prompt = \"You are a helpful chatbot for the attendees of the Waterkant Festival! You answer questions about events, schedules, venue information, transportation options, or anything else. The attendees should feel free to ask you. You respond in the same language the user asks the question!\""
   ]
  },
  {
   "cell_type": "code",
   "execution_count": 173,
   "id": "9bb42c78-3137-4e46-a84e-ca0ed76c156b",
   "metadata": {},
   "outputs": [],
   "source": [
    "replacements= {\"question\": question}"
   ]
  },
  {
   "cell_type": "code",
   "execution_count": 174,
   "id": "0214c081-f296-408f-b3a3-d7f9035eb51d",
   "metadata": {},
   "outputs": [],
   "source": [
    "prompt= replace_placeholders(template, replacements)"
   ]
  },
  {
   "cell_type": "code",
   "execution_count": 175,
   "id": "64c78567-22d7-41d8-bd39-56f913e50948",
   "metadata": {},
   "outputs": [
    {
     "data": {
      "text/plain": [
       "\"General info\\n\\nThe Waterkant Festival is a dynamic and innovative event that takes place annually in Kiel, Germany. Since its inception in 2016, the festival has served as a platform for startups, companies, and creative thinkers to showcase and discuss their ideas on technology, sustainability, and future societal structures. The festival is organized by opencampus.sh, a non-profit association aimed at fostering education and entrepreneurship in Schleswig-Holstein.\\n\\nTypically held over two days, Waterkant Festival features a diverse array of activities including talks, workshops, and interactive exhibitions. Each year, it gathers hundreds of participants and speakers from various fields—ranging from business and science to politics and the arts—to engage in future-oriented discussions and collaborations. The festival's format includes themed sessions that cover a wide range of topics such as artificial intelligence, sustainability, new work methods, and innovative technology applications.\\n\\nWaterkant also provides a stage for startups to pitch their ideas and for thought leaders to share insights. The event fosters a strong sense of community and collaboration, with numerous opportunities for networking and co-creation. In addition to professional interactions, the festival incorporates elements of cultural engagement, including live music and social gatherings, creating a vibrant festival atmosphere directly by the waterfront.\\n\\nWaterkant is notable for its commitment to innovation and its role in promoting the economic and educational development of the region. It supports budding entrepreneurs and established businesses alike, providing a space to explore new ideas and push the boundaries of conventional industry practices\\u200b\\n--------------\\nAnswer the user question in the language of the user if the question is answered by the text above. If the question aims at something that has nothing to do, inform the user that he should only ask questions regarding the topis around the Waterkant Festival. If the user asks about activities and events return exactly this: 'events'.\\n Example:\\nQuestion:\\n What is the difference between Burger and Pommes?\\nPlease ask only questions regardings the Waterkant festival. Thanks!\\n\\n Here is the question:\\nWelche KI Events sind am Freitag bis 15 Uhr\""
      ]
     },
     "execution_count": 175,
     "metadata": {},
     "output_type": "execute_result"
    }
   ],
   "source": [
    "prompt"
   ]
  },
  {
   "cell_type": "code",
   "execution_count": 176,
   "id": "2e7175ba-3ef8-44d7-9e07-d0cf8e366670",
   "metadata": {},
   "outputs": [
    {
     "name": "stdout",
     "output_type": "stream",
     "text": [
      "Am Freitag bis 15 Uhr finden verschiedene KI-Events auf dem Waterkant Festival statt. Dazu gehören Vorträge, Workshops und interaktive Ausstellungen, die sich mit künstlicher Intelligenz und anderen zukunftsorientierten Themen befassen.\n"
     ]
    }
   ],
   "source": [
    "from openai import OpenAI\n",
    "client = OpenAI()\n",
    "messages=[\n",
    "        {\"role\": \"system\", \"content\": system_prompt},\n",
    "      ]\n",
    "messages+= [{\"role\": \"user\", \"content\": prompt}]\n",
    "completion = client.chat.completions.create(\n",
    "    model=\"gpt-3.5-turbo\",\n",
    "    messages=messages,\n",
    "    temperature=0.0\n",
    ")\n",
    "\n",
    "print(completion.choices[0].message.content)"
   ]
  },
  {
   "cell_type": "code",
   "execution_count": null,
   "id": "a85ae7ee-65ad-4024-a8d6-921e8c32bfc9",
   "metadata": {},
   "outputs": [],
   "source": []
  }
 ],
 "metadata": {
  "kernelspec": {
   "display_name": "Python 3 (ipykernel)",
   "language": "python",
   "name": "python3"
  },
  "language_info": {
   "codemirror_mode": {
    "name": "ipython",
    "version": 3
   },
   "file_extension": ".py",
   "mimetype": "text/x-python",
   "name": "python",
   "nbconvert_exporter": "python",
   "pygments_lexer": "ipython3",
   "version": "3.11.5"
  }
 },
 "nbformat": 4,
 "nbformat_minor": 5
}
