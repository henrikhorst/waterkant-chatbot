{
 "cells": [
  {
   "cell_type": "code",
   "execution_count": 1,
   "id": "14d27d07-0e46-4ce7-88c4-3c3db466c48d",
   "metadata": {},
   "outputs": [],
   "source": [
    "class Document:\n",
    "    def __init__(self, content, metadata=None, doc_id=None, num_chunks=None):\n",
    "        self.content = content\n",
    "        self.metadata = metadata if metadata is not None else {}\n",
    "        self.id = doc_id if doc_id is not None else str(uuid.uuid4())\n",
    "        self.num_chunks = num_chunks\n",
    "\n",
    "    def add_metadata(self, key, value):\n",
    "        \"\"\"\n",
    "        Adds a key-value pair to the document's metadata.\n",
    "\n",
    "        :param key: The key for the metadata item.\n",
    "        :param value: The value for the metadata item.\n",
    "        \"\"\"\n",
    "        self.metadata[key] = value\n",
    "\n",
    "    def __str__(self):\n",
    "        \"\"\"\n",
    "        Returns a string representation of the document.\n",
    "\n",
    "        :return: A string containing the content and metadata of the document.\n",
    "        \"\"\"\n",
    "        return f\"Content: {self.content}\\nMetadata: {self.metadata}\"\n",
    "\n",
    "\n",
    "    def to_json(self):\n",
    "        \"\"\" Convert the Document object to a JSON string \"\"\"\n",
    "        # Use a dictionary comprehension to handle the renaming of 'id' to 'doc_id'\n",
    "        data = {k if k != 'id' else 'doc_id': v for k, v in self.__dict__.items()}\n",
    "        return json.dumps(data)\n",
    "\n",
    "    @classmethod\n",
    "    def from_json(cls, json_str):\n",
    "        \"\"\" Create a Document object from a JSON string \"\"\"\n",
    "        data = json.loads(json_str)\n",
    "        return cls(**data)\n"
   ]
  },
  {
   "cell_type": "code",
   "execution_count": 2,
   "id": "eb972885-4b2c-492f-b0bc-9d42d8b56401",
   "metadata": {},
   "outputs": [],
   "source": [
    "import json\n",
    "import uuid\n",
    "with open('documents.json', 'r') as file:\n",
    "            json_documents = json.load(file)\n",
    "\n",
    "loaded_documents = [Document.from_json(json_str) for json_str in json_documents]"
   ]
  },
  {
   "cell_type": "code",
   "execution_count": 3,
   "id": "cf1c82f2-ce74-4bb4-91d8-af2befd0c949",
   "metadata": {},
   "outputs": [
    {
     "data": {
      "text/plain": [
       "'Title: How to Businessplan '"
      ]
     },
     "execution_count": 3,
     "metadata": {},
     "output_type": "execute_result"
    }
   ],
   "source": [
    "type = loaded_documents[0].content.split('\\n')[-1] if len(loaded_documents[0].content.split('\\n')[-1]) > 6 else \"\"  \n",
    "loaded_documents[0].content.split('\\n')[0] + \" \" + type"
   ]
  },
  {
   "cell_type": "code",
   "execution_count": null,
   "id": "4be064b2-8583-43b1-8318-9b166af818ea",
   "metadata": {},
   "outputs": [],
   "source": [
    "from FlagEmbedding import BGEM3FlagModel\n",
    "\n",
    "model = BGEM3FlagModel('BAAI/bge-m3', use_fp16=False)\n",
    "\n",
    "def bge_m3_embed(query: str):\n",
    "    # Can add \"use_fp16=True\" to speed up predictions\n",
    "    embeddings = model.encode([query])['dense_vecs'][0]\n",
    "    return embeddings\n",
    "\n",
    "# Example usage (1024 dimensions)\n",
    "embeddings = bge_m3_embed(\"This is a text I want to embed\")"
   ]
  },
  {
   "cell_type": "code",
   "execution_count": 6,
   "id": "d6b60b31-dcb7-4a5e-a9ff-ea8205d3bb04",
   "metadata": {},
   "outputs": [],
   "source": [
    "embeddings = []\n",
    "for document in loaded_documents:\n",
    "    #text = document.content\n",
    "\n",
    "    #special early stage treatment where no descriptions exist\n",
    "    type = document.content.split('\\n')[-1] if len(document.content.split('\\n')[-1]) > 6 else \"\"  \n",
    "    text = document.content.split('\\n')[0] + \" \" + type\n",
    "    text = text.strip()\n",
    "    embedding = bge_m3_embed(text)\n",
    "    embeddings.append(embedding)"
   ]
  },
  {
   "cell_type": "code",
   "execution_count": 7,
   "id": "f2c22cd2-c871-4319-8d14-88c4e5155700",
   "metadata": {},
   "outputs": [
    {
     "data": {
      "text/plain": [
       "106"
      ]
     },
     "execution_count": 7,
     "metadata": {},
     "output_type": "execute_result"
    }
   ],
   "source": [
    "len(embeddings)"
   ]
  },
  {
   "cell_type": "code",
   "execution_count": 8,
   "id": "ab112d7b-5296-4a0a-91ad-fe1e718427d3",
   "metadata": {},
   "outputs": [],
   "source": [
    "import numpy as np\n",
    "np_embeddings = np.vstack(embeddings)"
   ]
  },
  {
   "cell_type": "code",
   "execution_count": 9,
   "id": "077c262a-d16c-4c14-9a7d-9c3866ab05ed",
   "metadata": {},
   "outputs": [
    {
     "data": {
      "text/plain": [
       "(106, 1536)"
      ]
     },
     "execution_count": 9,
     "metadata": {},
     "output_type": "execute_result"
    }
   ],
   "source": [
    "np_embeddings.shape"
   ]
  },
  {
   "cell_type": "code",
   "execution_count": 10,
   "id": "b6b40617-7b77-4b80-a3db-a05d9f148b6b",
   "metadata": {},
   "outputs": [],
   "source": [
    "np.save('earlyopenembeddings.npy', np_embeddings)"
   ]
  },
  {
   "cell_type": "code",
   "execution_count": null,
   "id": "91d3f4a6-c200-4d29-87a7-4bfa4545f71f",
   "metadata": {},
   "outputs": [],
   "source": []
  }
 ],
 "metadata": {
  "kernelspec": {
   "display_name": "Python 3 (ipykernel)",
   "language": "python",
   "name": "python3"
  },
  "language_info": {
   "codemirror_mode": {
    "name": "ipython",
    "version": 3
   },
   "file_extension": ".py",
   "mimetype": "text/x-python",
   "name": "python",
   "nbconvert_exporter": "python",
   "pygments_lexer": "ipython3",
   "version": "3.11.5"
  }
 },
 "nbformat": 4,
 "nbformat_minor": 5
}
