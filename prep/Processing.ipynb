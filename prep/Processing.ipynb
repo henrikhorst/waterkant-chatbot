{
 "cells": [
  {
   "cell_type": "code",
   "execution_count": 1,
   "id": "52d7a336-fe3d-4dc9-ac9b-a7c80260d4ba",
   "metadata": {},
   "outputs": [],
   "source": [
    "class Document:\n",
    "    def __init__(self, content, metadata=None, doc_id=None, num_chunks=None):\n",
    "        self.content = content\n",
    "        self.metadata = metadata if metadata is not None else {}\n",
    "        self.id = doc_id if doc_id is not None else str(uuid.uuid4())\n",
    "        self.num_chunks = num_chunks\n",
    "\n",
    "    def add_metadata(self, key, value):\n",
    "        \"\"\"\n",
    "        Adds a key-value pair to the document's metadata.\n",
    "\n",
    "        :param key: The key for the metadata item.\n",
    "        :param value: The value for the metadata item.\n",
    "        \"\"\"\n",
    "        self.metadata[key] = value\n",
    "\n",
    "    def __str__(self):\n",
    "        \"\"\"\n",
    "        Returns a string representation of the document.\n",
    "\n",
    "        :return: A string containing the content and metadata of the document.\n",
    "        \"\"\"\n",
    "        return f\"Content: {self.content}\\nMetadata: {self.metadata}\"\n",
    "\n",
    "\n",
    "    def to_json(self):\n",
    "        \"\"\" Convert the Document object to a JSON string \"\"\"\n",
    "        # Use a dictionary comprehension to handle the renaming of 'id' to 'doc_id'\n",
    "        data = {k if k != 'id' else 'doc_id': v for k, v in self.__dict__.items()}\n",
    "        return json.dumps(data)\n",
    "\n",
    "    @classmethod\n",
    "    def from_json(cls, json_str):\n",
    "        \"\"\" Create a Document object from a JSON string \"\"\"\n",
    "        data = json.loads(json_str)\n",
    "        return cls(**data)\n"
   ]
  },
  {
   "cell_type": "code",
   "execution_count": 2,
   "id": "085c2057-b130-4386-9d9c-e36ca4cf6e0b",
   "metadata": {},
   "outputs": [],
   "source": [
    "import json\n",
    "with open('../data/2023/json/event_1MkgJ_the-story-of-europe-panel-talk.json', 'r') as file:\n",
    "    data = json.load(file)\n"
   ]
  },
  {
   "cell_type": "code",
   "execution_count": 20,
   "id": "c3ac212e-1200-4f20-8ad0-666a15850395",
   "metadata": {},
   "outputs": [],
   "source": [
    "excluded_keys = ['title', 'description', 'date', 'location']\n",
    "difference = [key for key in data.keys() if key not in excluded_keys]"
   ]
  },
  {
   "cell_type": "code",
   "execution_count": 21,
   "id": "f7700ce1-2c3b-4534-8f9a-fbaf028acee2",
   "metadata": {},
   "outputs": [
    {
     "data": {
      "text/plain": [
       "['speakers', 'moderators', 'type']"
      ]
     },
     "execution_count": 21,
     "metadata": {},
     "output_type": "execute_result"
    }
   ],
   "source": [
    "difference"
   ]
  },
  {
   "cell_type": "code",
   "execution_count": 22,
   "id": "04ab78de-0e5d-43b4-8be1-4b550dc846e2",
   "metadata": {},
   "outputs": [],
   "source": [
    "content = f\"\"\"Titel: {data['title']}\\nBeschreibung: {data['description']}\\nDatum: {data['date']}\\nOrt: {data['location']}\"\"\""
   ]
  },
  {
   "cell_type": "code",
   "execution_count": 23,
   "id": "109451bf-46f5-4c78-a591-39e3b16e9b33",
   "metadata": {},
   "outputs": [],
   "source": [
    "metadata = dict()\n",
    "for key in difference:\n",
    "    metadata[key]= data[key]"
   ]
  },
  {
   "cell_type": "code",
   "execution_count": 24,
   "id": "13de3f24-77b4-4ca2-99a4-f1aa4d7e9a04",
   "metadata": {},
   "outputs": [
    {
     "data": {
      "text/plain": [
       "{'speakers': [{'name': 'Fabian Böck',\n",
       "   'role': 'Founder',\n",
       "   'organization': 'Europe Think Factory'},\n",
       "  {'name': 'Erdem Ovacik',\n",
       "   'role': 'Founder and Executive Board Member',\n",
       "   'organization': 'Donkey Republic'},\n",
       "  {'name': 'Elina Åkerlind',\n",
       "   'role': 'CEO and founder',\n",
       "   'organization': 'Nordic Node AB'},\n",
       "  {'name': 'Sakina Turabali',\n",
       "   'role': 'Co-founder/Chief Growth Officer',\n",
       "   'organization': 'CodeEasy'}],\n",
       " 'moderators': [{'name': 'Linda-Maraike Plath',\n",
       "   'role': 'Projektkoordination SEEd Schule (Social Entrepreneurship Education)',\n",
       "   'organization': 'opencampus.sh'}],\n",
       " 'type': 'Startup, Panel'}"
      ]
     },
     "execution_count": 24,
     "metadata": {},
     "output_type": "execute_result"
    }
   ],
   "source": [
    "metadata"
   ]
  },
  {
   "cell_type": "code",
   "execution_count": 10,
   "id": "4c810c9d-c3c7-4eb9-8f69-8b12f02d80d9",
   "metadata": {},
   "outputs": [
    {
     "name": "stdout",
     "output_type": "stream",
     "text": [
      "Titel: The Story of Europe – Panel Talk\n",
      "Beschreibung: Europe Think Factory – Panel Talk:Join us as we're highlighting four speakers from four different ecosystems in the North to discuss the \"Story of Europe\", to open up about their experience in international collaboration, and to share their overall vision for a better together here in Europe.Europe Think Factory is a think tank working on a new narrative of collaboration for innovation, technology, and startups in Europe. Non-profit, independent, a founders collective.\n",
      "Datum: Friday June 16, 2023 11:00 - 11:45 CEST\n",
      "Ort: Stage 1\n"
     ]
    }
   ],
   "source": [
    "print(content)"
   ]
  },
  {
   "cell_type": "code",
   "execution_count": 30,
   "id": "a41af39f-c4a3-418e-9db4-0816cd0f77ff",
   "metadata": {},
   "outputs": [],
   "source": [
    "import os\n",
    "import json\n",
    "import uuid\n",
    "\n",
    "documents = []\n",
    "excluded_keys = ['title', 'description', 'date', 'location']\n",
    "\n",
    "def process_json_data(data, excluded_keys):\n",
    "    # Process your JSON data here\n",
    "    loc=data.get('location', 'No location given')\n",
    "    content = f\"\"\"Titel: {data['title']}\\nBeschreibung: {data['description']}\\nDatum: {data['date']}\\nOrt: {loc}\"\"\"\n",
    "    difference = [key for key in data.keys() if key not in excluded_keys]\n",
    "    metadata = dict()\n",
    "    for key in difference:\n",
    "        metadata[key]= data[key]\n",
    "    return Document(content, metadata=metadata)\n",
    "    \n",
    "\n",
    "# Path to the directory containing JSON files\n",
    "folder_path = '../data/2023/json'\n",
    "\n",
    "# Loop through each file in the specified directory\n",
    "for filename in os.listdir(folder_path):\n",
    "    if filename.endswith('.json'):  # Check if the file is a JSON file\n",
    "        file_path = os.path.join(folder_path, filename)  # Get the full path of the file\n",
    "        with open(file_path, 'r') as file:\n",
    "            try:\n",
    "                data = json.load(file)  # Load the JSON data from the file\n",
    "                documents.append(process_json_data(data, excluded_keys))\n",
    "            except json.JSONDecodeError:\n",
    "                print(f\"Error decoding JSON from the file {filename}\")\n",
    "\n"
   ]
  },
  {
   "cell_type": "code",
   "execution_count": 31,
   "id": "0e6ef616-e4d7-49d9-9388-d5ab86049355",
   "metadata": {},
   "outputs": [
    {
     "data": {
      "text/plain": [
       "112"
      ]
     },
     "execution_count": 31,
     "metadata": {},
     "output_type": "execute_result"
    }
   ],
   "source": [
    "len(documents)"
   ]
  },
  {
   "cell_type": "code",
   "execution_count": 1,
   "id": "15f95817-9553-4b37-84b4-a02fecf2594e",
   "metadata": {},
   "outputs": [
    {
     "name": "stdout",
     "output_type": "stream",
     "text": [
      "{'day': 'Friday', 'start_time': 'None', 'end_time': 'None'}\n"
     ]
    }
   ],
   "source": [
    "def parse_event_details(event_string):\n",
    "    # Split the input string into lines for easier parsing\n",
    "    lines = event_string.split('\\n')\n",
    "    \n",
    "    # Initialize dictionary to hold parsed data\n",
    "    event_details = {}\n",
    "    \n",
    "    for line in lines:\n",
    "        # Check if the line contains date and time information\n",
    "        if 'Datum:' in line:\n",
    "            # Remove the label 'Datum:' and extra spaces\n",
    "            date_time_info = line.replace('Datum:', '').strip()\n",
    "            \n",
    "            # Find the index where the time starts (immediately after the year), if present\n",
    "            time_start_index = date_time_info.find(':') - 2 if ':' in date_time_info else -1\n",
    "            \n",
    "            # Separate the day of the week\n",
    "            day = date_time_info.split(' ')[0]\n",
    "            \n",
    "            if time_start_index != -1:\n",
    "                # Extract the time information\n",
    "                times = date_time_info[time_start_index:].split('-')\n",
    "                start_time = times[0].strip()\n",
    "                end_time = times[1].strip().split(' ')[0]  # Remove the timezone if present\n",
    "            else:\n",
    "                # No time given, set to a placeholder\n",
    "                start_time = \"None\"\n",
    "                end_time = \"None\"\n",
    "            \n",
    "            # Populate the event details dictionary\n",
    "            event_details['day'] = day\n",
    "            event_details['start_time'] = start_time\n",
    "            event_details['end_time'] = end_time\n",
    "\n",
    "    return event_details\n",
    "\n",
    "# Example usage with a string that includes only the day\n",
    "event_string_only_day = 'Titel: Breakfast for Camp Sleepers\\nBeschreibung: No description found\\nDatum: Friday June 16, 2023\\nOrt: Courtyard'\n",
    "\n",
    "parsed_event_only_day = parse_event_details(event_string_only_day)\n",
    "print(parsed_event_only_day)\n"
   ]
  },
  {
   "cell_type": "code",
   "execution_count": null,
   "id": "e4b8e8fd-0d2a-4a60-a50c-927ccbe172c6",
   "metadata": {},
   "outputs": [],
   "source": [
    "for doc in documents:\n",
    "    doc.add_metadata(\"date\", parse_event_details(doc.content))"
   ]
  },
  {
   "cell_type": "code",
   "execution_count": 33,
   "id": "f354c4cb-8cd1-4a9e-a840-a952518e9895",
   "metadata": {},
   "outputs": [
    {
     "name": "stdout",
     "output_type": "stream",
     "text": [
      "Content: Titel: The Story of Europe – Panel Talk\n",
      "Beschreibung: Europe Think Factory – Panel Talk:Join us as we're highlighting four speakers from four different ecosystems in the North to discuss the \"Story of Europe\", to open up about their experience in international collaboration, and to share their overall vision for a better together here in Europe.Europe Think Factory is a think tank working on a new narrative of collaboration for innovation, technology, and startups in Europe. Non-profit, independent, a founders collective.\n",
      "Datum: Friday June 16, 2023 11:00 - 11:45 CEST\n",
      "Ort: Stage 1\n",
      "Metadata: {'speakers': [{'name': 'Fabian Böck', 'role': 'Founder', 'organization': 'Europe Think Factory'}, {'name': 'Erdem Ovacik', 'role': 'Founder and Executive Board Member', 'organization': 'Donkey Republic'}, {'name': 'Elina Åkerlind', 'role': 'CEO and founder', 'organization': 'Nordic Node AB'}, {'name': 'Sakina Turabali', 'role': 'Co-founder/Chief Growth Officer', 'organization': 'CodeEasy'}], 'moderators': [{'name': 'Linda-Maraike Plath', 'role': 'Projektkoordination SEEd Schule (Social Entrepreneurship Education)', 'organization': 'opencampus.sh'}], 'type': 'Startup, Panel'}\n"
     ]
    }
   ],
   "source": [
    "print(documents[0])"
   ]
  },
  {
   "cell_type": "code",
   "execution_count": 36,
   "id": "bfad9628-ecd8-41de-9a8d-65970aeecf92",
   "metadata": {},
   "outputs": [],
   "source": [
    "json_documents = [doc.to_json() for doc in documents]"
   ]
  },
  {
   "cell_type": "code",
   "execution_count": 37,
   "id": "91e63065-3192-432c-a616-fc72a81e9661",
   "metadata": {},
   "outputs": [],
   "source": [
    "with open(f'documents.json', 'w') as file:\n",
    "    json.dump(json_documents, file)"
   ]
  },
  {
   "cell_type": "code",
   "execution_count": null,
   "id": "b1c819d8-90c8-42e7-9742-3bb58dbebf99",
   "metadata": {},
   "outputs": [],
   "source": []
  }
 ],
 "metadata": {
  "kernelspec": {
   "display_name": "Python 3 (ipykernel)",
   "language": "python",
   "name": "python3"
  },
  "language_info": {
   "codemirror_mode": {
    "name": "ipython",
    "version": 3
   },
   "file_extension": ".py",
   "mimetype": "text/x-python",
   "name": "python",
   "nbconvert_exporter": "python",
   "pygments_lexer": "ipython3",
   "version": "3.11.5"
  }
 },
 "nbformat": 4,
 "nbformat_minor": 5
}
