{
 "cells": [
  {
   "cell_type": "code",
   "execution_count": 1,
   "id": "4ac25e11-f285-409c-997c-e6e10aec1c02",
   "metadata": {},
   "outputs": [],
   "source": [
    "import helper\n",
    "from helper import find_k_nearest_neighbors\n",
    "from helper import waterkant_festival_description\n",
    "from helper import Document\n",
    "import json"
   ]
  },
  {
   "cell_type": "code",
   "execution_count": 247,
   "id": "bde76041-3008-42ed-b013-418df6bd8451",
   "metadata": {},
   "outputs": [],
   "source": [
    "events_template=\"**List of events**\\n\\n%events%\\n\\nPlease provide an answer to the question based on the preceding information. Include all events that directly relate to the topic of the question. Additionally, mention any events that, while not directly related to the specified time, could still be relevant and interesting. Exclude any events that do not pertain to the topic. Answer in the same language as the question.Here is the question:\\n%question%\""
   ]
  },
  {
   "cell_type": "code",
   "execution_count": 248,
   "id": "99600c0c-8faf-4f1f-ac49-a45d7fc6f647",
   "metadata": {},
   "outputs": [],
   "source": [
    "def replace_placeholders(template, replacements):\n",
    "    for key, value in replacements.items():\n",
    "        placeholder = \"%\" + key + \"%\"\n",
    "        template = template.replace(placeholder, value)\n",
    "    return template"
   ]
  },
  {
   "cell_type": "code",
   "execution_count": 274,
   "id": "8110e5c0-32ba-4b9b-b099-d13dcc06cead",
   "metadata": {},
   "outputs": [],
   "source": [
    "import numpy as np\n",
    "\n",
    "np_embeddings = np.load('prep/2024/earlyembeddings.npy')\n",
    "k=len(np_embeddings)"
   ]
  },
  {
   "cell_type": "code",
   "execution_count": 275,
   "id": "54c52f9c-bdd6-472b-8ad0-4ddd84fc800d",
   "metadata": {},
   "outputs": [
    {
     "data": {
      "text/plain": [
       "(106, 1536)"
      ]
     },
     "execution_count": 275,
     "metadata": {},
     "output_type": "execute_result"
    }
   ],
   "source": [
    "np_embeddings.shape"
   ]
  },
  {
   "cell_type": "code",
   "execution_count": 251,
   "id": "3eb0927d-2fba-4ef1-aab6-ae0c17f4481d",
   "metadata": {},
   "outputs": [],
   "source": [
    "import json\n",
    "import uuid\n",
    "with open('prep/2024/documents.json', 'r') as file:\n",
    "            json_documents = json.load(file)\n",
    "\n",
    "loaded_documents = [Document.from_json(json_str) for json_str in json_documents]"
   ]
  },
  {
   "cell_type": "code",
   "execution_count": 229,
   "id": "93cdf7ee-7aca-4fa3-b4e8-755ad9d04127",
   "metadata": {},
   "outputs": [
    {
     "data": {
      "text/plain": [
       "{'Speakers': ['Mandy Semkow', 'Fabian Haushahn'],\n",
       " 'date': {'day': 'Friday', 'start_time': '10:00', 'end_time': '10:45'}}"
      ]
     },
     "execution_count": 229,
     "metadata": {},
     "output_type": "execute_result"
    }
   ],
   "source": [
    "loaded_documents[0].metadata"
   ]
  },
  {
   "cell_type": "code",
   "execution_count": 231,
   "id": "48bedd0c-8137-4226-b909-441cbc16ad75",
   "metadata": {},
   "outputs": [],
   "source": [
    "def filter_instances(instances, filters):\n",
    "    filtered_instances = []\n",
    "    \n",
    "    for instance in instances:\n",
    "        match = True\n",
    "        # Check if both time constraints are given\n",
    "        both_times = 'start_time' in filters and 'end_time' in filters\n",
    "\n",
    "        for key, value in filters.items():\n",
    "            if key == 'Speaker':\n",
    "                # 'Speaker' filter should match any speaker in the list\n",
    "                if value not in instance.metadata['Speakers']:\n",
    "                    match = False\n",
    "                    break\n",
    "            elif key in instance.metadata['date']:\n",
    "                if key == 'day' and instance.metadata['date'][key] != value:\n",
    "                    match = False\n",
    "                    break\n",
    "                    \n",
    "                # Handling 'start_time' and 'end_time' specifically\n",
    "                elif both_times:\n",
    "                    # When both start and end times are provided\n",
    "                    if key == 'start_time':\n",
    "                        if instance.metadata['date'][key] < value or instance.metadata['date']['end_time'] > filters['end_time']:\n",
    "                            match = False\n",
    "                            break\n",
    "                    elif key == 'end_time':\n",
    "                        if instance.metadata['date'][key] > value or instance.metadata['date']['start_time'] < filters['start_time']:\n",
    "                            match = False\n",
    "                            break\n",
    "                else:\n",
    "                    # Handle individual time constraints\n",
    "                    if key == 'start_time' and instance.metadata['date'][key] < value:\n",
    "                        match = False\n",
    "                        break\n",
    "                    elif key == 'end_time' and instance.metadata['date'][key] > value:\n",
    "                        match = False\n",
    "                        break\n",
    "            else:\n",
    "                # If the filter key doesn't exist, ignore that filter\n",
    "                continue\n",
    "\n",
    "        if match:\n",
    "            filtered_instances.append(instance)\n",
    "    \n",
    "    return filtered_instances"
   ]
  },
  {
   "cell_type": "code",
   "execution_count": 232,
   "id": "2b24f456-ba29-4dea-a6ad-7609f2b6f5ba",
   "metadata": {},
   "outputs": [],
   "source": [
    "from openai import OpenAI\n",
    "client = OpenAI()\n",
    "\n",
    "def get_embedding(text, model=\"text-embedding-3-small\"):\n",
    "   text = text.replace(\"\\n\", \" \")\n",
    "   return client.embeddings.create(input = [text], model=model).data[0].embedding\n",
    "\n"
   ]
  },
  {
   "cell_type": "code",
   "execution_count": 252,
   "id": "1a42aff1-fd01-41c5-ab3a-37e1d0771906",
   "metadata": {},
   "outputs": [],
   "source": [
    "tools = [\n",
    "    {\n",
    "        \"type\": \"function\",\n",
    "        \"function\": {\n",
    "            \"name\": \"retrieves_events_by_speaker_and_day_and_time_constraints\",\n",
    "            \"description\": \"Retrieves a list of events fitting to the question. If specified in the question it filters the events also based on speaker, specific day and earliest and latest permissible times for event start and end.\",\n",
    "            \"parameters\": {\n",
    "                \"type\": \"object\",\n",
    "                \"properties\": {\n",
    "                    \"interest_description\": {\n",
    "                        \"type\": \"string\",\n",
    "                        \"description\": \"Verbal formulation from the question what is the interest\",\n",
    "                    },\n",
    "                    \"day\": {\n",
    "                        \"type\": \"string\",\n",
    "                        \"description\": \"The specific days of the week to filter events for, e.g. 'Monday', 'Friday' or 'Tuesday'\"\n",
    "                    },\n",
    "                    \"min_start_time\": {\n",
    "                        \"type\": \"string\",\n",
    "                        \"description\": \"The earliest permissible start time for events, in 24-hour format, e.g., '08:00' for 8 AM.\"\n",
    "                    },\n",
    "                    \"max_end_time\": {\n",
    "                        \"type\": \"string\",\n",
    "                        \"description\": \"The latest permissible ending time for events, in 24-hour format, e.g., '17:00' for 5 PM\"\n",
    "                    },\n",
    "                    \"speaker\": {\n",
    "                        \"type\": \"string\",\n",
    "                        \"description\": \"The specific speaker to filter events for, e.g. 'Henrik Horst', 'Steffen Brandt' or 'Dirk Schrödter'\"\n",
    "                    },\n",
    "                    \n",
    "                },\n",
    "                \"required\": [\"interest_description\"],\n",
    "            }\n",
    "        }\n",
    "    },\n",
    "]"
   ]
  },
  {
   "cell_type": "code",
   "execution_count": 253,
   "id": "08f80b53-7c4a-4c48-99ec-da1ab69697bd",
   "metadata": {},
   "outputs": [],
   "source": [
    "from openai import OpenAI\n",
    "client = OpenAI()\n",
    "GPT_MODEL = \"gpt-3.5-turbo\"\n",
    "def chat_completion_request(messages, tools=None, model=GPT_MODEL, stream=False):\n",
    "    try:\n",
    "        response = client.chat.completions.create(\n",
    "            model=model,\n",
    "            messages=messages,\n",
    "            tools=tools,\n",
    "            temperature = 0.0,\n",
    "            stream=stream\n",
    "        )\n",
    "        return response\n",
    "    except Exception as e:\n",
    "        print(\"Unable to generate ChatCompletion response\")\n",
    "        print(f\"Exception: {e}\")\n",
    "        return e\n",
    "\n"
   ]
  },
  {
   "cell_type": "code",
   "execution_count": 265,
   "id": "8a3393c8-46cb-41a5-b79e-e37c78d76b1c",
   "metadata": {},
   "outputs": [],
   "source": [
    "question=\"Kannst Podiumsdiskussionen zu künstlicher Intelligenz und Bildung empfehlen\""
   ]
  },
  {
   "cell_type": "code",
   "execution_count": 276,
   "id": "b29aa7e8-f961-48ad-95a1-a2f80212dbcd",
   "metadata": {},
   "outputs": [],
   "source": [
    "system_message = waterkant_festival_description+\"You are a helpful chatbot for the attendees of the Waterkant Festival! You answer questions about events, schedules, venue information, transportation options, or anything else. Make no speculations what topics or events are on the festival but call the function then instead. If you are asked about any topic, event or something that is not directly be answered in a meaningful way by the description above, call the retrieve_events_by_speaker_and_day_and_time_constraints function instead if speaker (e.g. 'Dirk Schrödter') and/or time constraints are mentioned e.g. 'Friday morning'. You respond in the same language the user asks the question!\""
   ]
  },
  {
   "cell_type": "code",
   "execution_count": null,
   "id": "d80d42f4-105a-411b-b335-de883f7ad075",
   "metadata": {},
   "outputs": [],
   "source": [
    "messages = []"
   ]
  },
  {
   "cell_type": "code",
   "execution_count": 270,
   "id": "e4aa2996-8857-4ddc-9073-191f9ec1ac07",
   "metadata": {},
   "outputs": [],
   "source": [
    "if not messages:\n",
    "    messages.append({\"role\": \"system\", \"content\": system_message})\n",
    "messages.append({\"role\": \"user\", \"content\": question})\n",
    "chat_response = chat_completion_request(messages, tools)\n",
    "assistant_message = chat_response.choices[0].message\n",
    "if assistant_message.tool_calls:\n",
    "    assistant_message.content = str(assistant_message.tool_calls[0].function)\n",
    "    messages.append({\"role\": assistant_message.role, \"content\": assistant_message.content})\n",
    "    filters = json.loads(assistant_message.tool_calls[0].function.arguments)\n",
    "    eventfilters = {}\n",
    "    for key in filters.keys():\n",
    "        if key==\"speaker\" and filters[key]:\n",
    "            eventfilters[\"Speaker\"]= filters[key]\n",
    "        elif key==\"day\" and filters[key]:\n",
    "            eventfilters[\"day\"]= filters[key]\n",
    "        elif key==\"min_start_time\" and filters[key]:\n",
    "            eventfilters[\"start_time\"]= filters[key]\n",
    "        elif key==\"max_end_time\"  and filters[key]:\n",
    "            eventfilters[\"end_time\"]= filters[key]\n",
    "    filtered_events = filter_instances(loaded_documents, eventfilters)\n",
    "    filtered_events_set = set(filtered_events)  # Convert to set for faster lookup\n",
    "    # Convert question to embedding\n",
    "    question_embedding = get_embedding(filters[\"interest_description\"])\n",
    "    np_question_embedding = np.array(question_embedding)\n",
    "\n",
    "    # Find k nearest neighbors\n",
    "    indices, similarities = find_k_nearest_neighbors(\n",
    "        np_embeddings, np_question_embedding, k\n",
    "    )\n",
    "    picked_events = []\n",
    "    for indice in indices:\n",
    "        if loaded_documents[indice] in filtered_events_set:\n",
    "            picked_events.append(loaded_documents[indice])\n",
    "            if len(picked_events) >= 8:\n",
    "                break\n",
    "    if not picked_events:\n",
    "        events_str = \"No events found for the request\"\n",
    "    else:\n",
    "        events_str = \"\"\n",
    "        for event in picked_events:\n",
    "            events_str += event.content + \"\\n\\n\"\n",
    "    messages.append({\"role\": \"function\", \"tool_call_id\": assistant_message.tool_calls[0].id, \"name\": assistant_message.tool_calls[0].function.name, \"content\": events_str})\n",
    "    replacements= {\"question\": question, \"events\": events_str}\n",
    "    prompt= replace_placeholders(events_template, replacements)\n",
    "    events_messages= [{\"role\": \"system\", \"content\": \"You are a helpful chatbot of the Waterkantfestival with answers question in an engaging way using always a few smileys. Very importantly you answer always in the langaguage of the question no matter the language of the instructions\"},{\"role\": \"user\", \"content\": prompt}]\n",
    "    response = chat_completion_request(events_messages, tools=None, model=GPT_MODEL)\n",
    "    messages.append({\"role\": \"assistant\", \"content\": response.choices[0].message.content})\n",
    "    return response\n",
    "\n",
    "else:\n",
    "    messages.append({\"role\": assistant_message.role, \"content\": assistant_message.content})\n",
    "    return assistant_message.content"
   ]
  },
  {
   "cell_type": "code",
   "execution_count": 271,
   "id": "d17a23ca-df49-445c-85ff-8a6e3f1356cf",
   "metadata": {},
   "outputs": [
    {
     "data": {
      "text/plain": [
       "ChatCompletionMessage(content='Function(arguments=\\'{\"interest_description\":\"Podiumsdiskussionen zu künstlicher Intelligenz und Bildung\",\"day\":null,\"min_start_time\":null,\"max_end_time\":null,\"speaker\":null}\\', name=\\'retrieves_events_by_speaker_and_day_and_time_constraints\\')', role='assistant', function_call=None, tool_calls=[ChatCompletionMessageToolCall(id='call_xdpZu7hTYXBp2PHIKsw7dTRO', function=Function(arguments='{\"interest_description\":\"Podiumsdiskussionen zu künstlicher Intelligenz und Bildung\",\"day\":null,\"min_start_time\":null,\"max_end_time\":null,\"speaker\":null}', name='retrieves_events_by_speaker_and_day_and_time_constraints'), type='function')])"
      ]
     },
     "execution_count": 271,
     "metadata": {},
     "output_type": "execute_result"
    }
   ],
   "source": [
    "assistant_message"
   ]
  },
  {
   "cell_type": "code",
   "execution_count": 272,
   "id": "cfcc9a9a-767a-4e84-867e-7997fac1b491",
   "metadata": {},
   "outputs": [
    {
     "data": {
      "text/plain": [
       "[{'role': 'system',\n",
       "  'content': \"The Waterkant Festival is a dynamic and innovative event that takes place annually in Kiel, Germany. Since its inception in 2016, the festival has served as a platform for startups, companies, and creative thinkers to showcase and discuss their ideas on technology, sustainability, and future societal structures. The festival is organized by opencampus.sh, a non-profit association aimed at fostering education and entrepreneurship in Schleswig-Holstein.\\n\\nTypically held over two days, Waterkant Festival features a diverse array of activities including talks, workshops, and interactive exhibitions. Each year, it gathers hundreds of participants and speakers from various fields—ranging from business and science to politics and the arts—to engage in future-oriented discussions and collaborations. The festival's format includes themed sessions that cover a wide range of topics such as artificial intelligence, sustainability, new work methods, and innovative technology applications.\\n\\nWaterkant also provides a stage for startups to pitch their ideas and for thought leaders to share insights. The event fosters a strong sense of community and collaboration, with numerous opportunities for networking and co-creation. In addition to professional interactions, the festival incorporates elements of cultural engagement, including live music and social gatherings, creating a vibrant festival atmosphere directly by the waterfront.\\n\\nWaterkant is notable for its commitment to innovation and its role in promoting the economic and educational development of the region. It supports budding entrepreneurs and established businesses alike, providing a space to explore new ideas and push the boundaries of conventional industry practices\\u200bYou are a helpful chatbot for the attendees of the Waterkant Festival! You answer questions about events, schedules, venue information, transportation options, or anything else. Make no speculations what topics or events are on the festival but call the function then instead. If you are asked about any topic, event or something that is not directly be answered in a meaningful way by the description above, call the retrieve_events_by_speaker_and_day_and_time_constraints function instead if speaker (e.g. 'Dirk Schrödter') and/or time constraints are mentioned e.g. 'Friday morning'. You respond in the same language the user asks the question!\"},\n",
       " {'role': 'user',\n",
       "  'content': 'Kannst Podiumsdiskussionen zu künstlicher Intelligenz und Bildung empfehlen'},\n",
       " {'role': 'assistant',\n",
       "  'content': 'Function(arguments=\\'{\"interest_description\":\"Podiumsdiskussionen zu künstlicher Intelligenz und Bildung\",\"day\":null,\"min_start_time\":null,\"max_end_time\":null,\"speaker\":null}\\', name=\\'retrieves_events_by_speaker_and_day_and_time_constraints\\')'},\n",
       " {'role': 'function',\n",
       "  'tool_call_id': 'call_xdpZu7hTYXBp2PHIKsw7dTRO',\n",
       "  'name': 'retrieves_events_by_speaker_and_day_and_time_constraints',\n",
       "  'content': 'Title: Bildung der Zukunft und KI 🤖\\nDescription: No description found\\nDate: Friday June 14, 2024 17:00 - 17:45 CEST\\nLocation: Future Stage\\nType: \\n\\nTitle: Warum KI und Kunst den Menschen brauchen\\nDescription: No description found\\nDate: Friday June 14, 2024 15:00 - 15:45 CEST\\nLocation: Waterside Tent\\nType: Extending Arts & Reality, panel\\n\\nTitle: Wann wird AI endlich langweilig? Ein optmistischer Blick auf die Zukunft\\nDescription: No description found\\nDate: Friday June 14, 2024 14:00 - 14:45 CEST\\nLocation: Rails\\nType: \\n\\nTitle: Generative KI als Copilot in der Gründung\\nDescription: No description found\\nDate: Friday June 14, 2024 16:00 - 16:45 CEST\\nLocation: Rails\\nType: \\n\\nTitle: Extended Learning: Wissensvermittlung durch immersive Medien\\nDescription: No description found\\nDate: Friday June 14, 2024 13:00 - 13:45 CEST\\nLocation: Robotstage\\nType: Extending Arts & Reality, panel\\n\\nTitle: Content Creation mit KI\\nDescription: No description found\\nDate: Friday June 14, 2024 13:00 - 13:45 CEST\\nLocation: Forest\\nType: Future Skills, talk\\n\\nTitle: Warum wir eine gerechtere KI brauchen, die alle mit einschließt\\nDescription: No description found\\nDate: Friday June 14, 2024 15:00 - 15:45 CEST\\nLocation: Forest\\nType: Zukunft der Verwaltung\\n\\nTitle: Do’s und Don’ts beim Implementieren von KI im Mittelstand\\nDescription: No description found\\nDate: Friday June 14, 2024 13:00 - 13:45 CEST\\nLocation: Garden Tent\\nType: \\n\\n'},\n",
       " {'role': 'assistant',\n",
       "  'content': 'Events directly related to the topic of artificial intelligence and education are:\\n\\n1. Title: Bildung der Zukunft und KI 🤖\\n   Date: Friday June 14, 2024 17:00 - 17:45 CEST\\n   Location: Future Stage\\n\\n2. Title: Generative KI als Copilot in der Gründung\\n   Date: Friday June 14, 2024 16:00 - 16:45 CEST\\n   Location: Rails\\n\\n3. Title: Extended Learning: Wissensvermittlung durch immersive Medien\\n   Date: Friday June 14, 2024 13:00 - 13:45 CEST\\n   Location: Robotstage\\n\\nEvents that, while not directly related to the specified time, could still be relevant and interesting are:\\n\\n1. Title: Warum KI und Kunst den Menschen brauchen\\n   Date: Friday June 14, 2024 15:00 - 15:45 CEST\\n   Location: Waterside Tent\\n   Type: Extending Arts & Reality, panel\\n\\n2. Title: Warum wir eine gerechtere KI brauchen, die alle mit einschließt\\n   Date: Friday June 14, 2024 15:00 - 15:45 CEST\\n   Location: Forest\\n   Type: Zukunft der Verwaltung'}]"
      ]
     },
     "execution_count": 272,
     "metadata": {},
     "output_type": "execute_result"
    }
   ],
   "source": [
    "messages"
   ]
  },
  {
   "cell_type": "code",
   "execution_count": 273,
   "id": "d063b963-2910-4cdb-9563-af668b03a098",
   "metadata": {},
   "outputs": [
    {
     "data": {
      "text/plain": [
       "'Podiumsdiskussionen zu künstlicher Intelligenz und Bildung'"
      ]
     },
     "execution_count": 273,
     "metadata": {},
     "output_type": "execute_result"
    }
   ],
   "source": [
    "filters[\"interest_description\"]"
   ]
  },
  {
   "cell_type": "code",
   "execution_count": null,
   "id": "62aa5893-fb50-43d8-9617-2032e01ab5c0",
   "metadata": {},
   "outputs": [],
   "source": []
  }
 ],
 "metadata": {
  "kernelspec": {
   "display_name": "Python 3 (ipykernel)",
   "language": "python",
   "name": "python3"
  },
  "language_info": {
   "codemirror_mode": {
    "name": "ipython",
    "version": 3
   },
   "file_extension": ".py",
   "mimetype": "text/x-python",
   "name": "python",
   "nbconvert_exporter": "python",
   "pygments_lexer": "ipython3",
   "version": "3.11.5"
  }
 },
 "nbformat": 4,
 "nbformat_minor": 5
}
